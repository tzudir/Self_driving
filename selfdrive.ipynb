{
  "cells": [
    {
      "cell_type": "markdown",
      "metadata": {
        "id": "jgXmGFyGMn0z"
      },
      "source": [
        "## Self driving car model"
      ]
    },
    {
      "cell_type": "code",
      "execution_count": 1,
      "metadata": {
        "id": "DRddEl6dMn02",
        "outputId": "4ea67ef0-7988-447e-a7e0-f88ce502fe6c",
        "colab": {
          "base_uri": "https://localhost:8080/"
        }
      },
      "outputs": [
        {
          "output_type": "stream",
          "name": "stdout",
          "text": [
            "Cloning into 'Self_driving'...\n",
            "remote: Enumerating objects: 138284, done.\u001b[K\n",
            "remote: Counting objects: 100% (8/8), done.\u001b[K\n",
            "remote: Compressing objects: 100% (8/8), done.\u001b[K\n",
            "remote: Total 138284 (delta 2), reused 1 (delta 0), pack-reused 138276\u001b[K\n",
            "Receiving objects: 100% (138284/138284), 1.45 GiB | 13.76 MiB/s, done.\n",
            "Resolving deltas: 100% (79/79), done.\n",
            "Updating files: 100% (112595/112595), done.\n"
          ]
        }
      ],
      "source": [
        "!git clone https://github.com/tzudir/Self_driving"
      ]
    },
    {
      "cell_type": "code",
      "execution_count": 2,
      "metadata": {
        "id": "ndak6jJCMn05"
      },
      "outputs": [],
      "source": [
        "import os\n",
        "import pandas as pd\n",
        "import numpy as np\n",
        "import random\n",
        "import matplotlib.pyplot as plt\n",
        "import matplotlib.image as mpimg\n",
        "import tensorflow as keras\n",
        "import tensorflow as tf\n",
        "from keras.optimizers import SGD\n",
        "from keras.models import Sequential\n",
        "from keras.layers import Conv2D, MaxPooling2D, Flatten, Dropout, Dense, Lambda, BatchNormalization\n",
        "from keras.optimizers import Adam\n",
        "from keras.optimizers import schedules\n",
        "from keras.callbacks import EarlyStopping\n",
        "from keras import regularizers\n",
        "from sklearn.utils import shuffle\n",
        "from sklearn.model_selection import train_test_split\n",
        "from imgaug import augmenters as iaa\n",
        "import cv2\n",
        "import ntpath"
      ]
    },
    {
      "cell_type": "code",
      "source": [
        "datadir = '/content/Self_driving/drive2'\n",
        "columns = ['center', 'left', 'right', 'steering', 'throttle', 'reverse', 'speed']\n",
        "data = pd.read_csv(os.path.join(datadir, 'driving_log.csv'), names = columns)\n",
        "pd.set_option('display.max_colwidth', None)"
      ],
      "metadata": {
        "id": "SRbVpWVhQqyM"
      },
      "execution_count": 3,
      "outputs": []
    },
    {
      "cell_type": "code",
      "source": [
        "data.head()"
      ],
      "metadata": {
        "id": "A-Vp-tv-dRpJ",
        "outputId": "de41c857-ce20-43ff-9039-5b139264a0a5",
        "colab": {
          "base_uri": "https://localhost:8080/",
          "height": 226
        }
      },
      "execution_count": 4,
      "outputs": [
        {
          "output_type": "execute_result",
          "data": {
            "text/plain": [
              "                                                      center  \\\n",
              "0  Desktop\\track2data\\IMG\\center_2019_04_02_18_05_37_641.jpg   \n",
              "1  Desktop\\track2data\\IMG\\center_2019_04_02_18_05_37_712.jpg   \n",
              "2  Desktop\\track2data\\IMG\\center_2019_04_02_18_05_37_783.jpg   \n",
              "3  Desktop\\track2data\\IMG\\center_2019_04_02_18_05_37_853.jpg   \n",
              "4  Desktop\\track2data\\IMG\\center_2019_04_02_18_05_37_922.jpg   \n",
              "\n",
              "                                                      left  \\\n",
              "0  Desktop\\track2data\\IMG\\left_2019_04_02_18_05_37_641.jpg   \n",
              "1  Desktop\\track2data\\IMG\\left_2019_04_02_18_05_37_712.jpg   \n",
              "2  Desktop\\track2data\\IMG\\left_2019_04_02_18_05_37_783.jpg   \n",
              "3  Desktop\\track2data\\IMG\\left_2019_04_02_18_05_37_853.jpg   \n",
              "4  Desktop\\track2data\\IMG\\left_2019_04_02_18_05_37_922.jpg   \n",
              "\n",
              "                                                      right  steering  \\\n",
              "0  Desktop\\track2data\\IMG\\right_2019_04_02_18_05_37_641.jpg       0.0   \n",
              "1  Desktop\\track2data\\IMG\\right_2019_04_02_18_05_37_712.jpg       0.0   \n",
              "2  Desktop\\track2data\\IMG\\right_2019_04_02_18_05_37_783.jpg       0.0   \n",
              "3  Desktop\\track2data\\IMG\\right_2019_04_02_18_05_37_853.jpg       0.0   \n",
              "4  Desktop\\track2data\\IMG\\right_2019_04_02_18_05_37_922.jpg       0.0   \n",
              "\n",
              "   throttle  reverse     speed  \n",
              "0       0.0      0.0  0.000275  \n",
              "1       0.0      0.0  0.000280  \n",
              "2       0.0      0.0  0.000277  \n",
              "3       0.0      0.0  0.000046  \n",
              "4       0.0      0.0  0.000060  "
            ],
            "text/html": [
              "\n",
              "  <div id=\"df-50537a95-5635-45d3-9dbd-6431f8821715\" class=\"colab-df-container\">\n",
              "    <div>\n",
              "<style scoped>\n",
              "    .dataframe tbody tr th:only-of-type {\n",
              "        vertical-align: middle;\n",
              "    }\n",
              "\n",
              "    .dataframe tbody tr th {\n",
              "        vertical-align: top;\n",
              "    }\n",
              "\n",
              "    .dataframe thead th {\n",
              "        text-align: right;\n",
              "    }\n",
              "</style>\n",
              "<table border=\"1\" class=\"dataframe\">\n",
              "  <thead>\n",
              "    <tr style=\"text-align: right;\">\n",
              "      <th></th>\n",
              "      <th>center</th>\n",
              "      <th>left</th>\n",
              "      <th>right</th>\n",
              "      <th>steering</th>\n",
              "      <th>throttle</th>\n",
              "      <th>reverse</th>\n",
              "      <th>speed</th>\n",
              "    </tr>\n",
              "  </thead>\n",
              "  <tbody>\n",
              "    <tr>\n",
              "      <th>0</th>\n",
              "      <td>Desktop\\track2data\\IMG\\center_2019_04_02_18_05_37_641.jpg</td>\n",
              "      <td>Desktop\\track2data\\IMG\\left_2019_04_02_18_05_37_641.jpg</td>\n",
              "      <td>Desktop\\track2data\\IMG\\right_2019_04_02_18_05_37_641.jpg</td>\n",
              "      <td>0.0</td>\n",
              "      <td>0.0</td>\n",
              "      <td>0.0</td>\n",
              "      <td>0.000275</td>\n",
              "    </tr>\n",
              "    <tr>\n",
              "      <th>1</th>\n",
              "      <td>Desktop\\track2data\\IMG\\center_2019_04_02_18_05_37_712.jpg</td>\n",
              "      <td>Desktop\\track2data\\IMG\\left_2019_04_02_18_05_37_712.jpg</td>\n",
              "      <td>Desktop\\track2data\\IMG\\right_2019_04_02_18_05_37_712.jpg</td>\n",
              "      <td>0.0</td>\n",
              "      <td>0.0</td>\n",
              "      <td>0.0</td>\n",
              "      <td>0.000280</td>\n",
              "    </tr>\n",
              "    <tr>\n",
              "      <th>2</th>\n",
              "      <td>Desktop\\track2data\\IMG\\center_2019_04_02_18_05_37_783.jpg</td>\n",
              "      <td>Desktop\\track2data\\IMG\\left_2019_04_02_18_05_37_783.jpg</td>\n",
              "      <td>Desktop\\track2data\\IMG\\right_2019_04_02_18_05_37_783.jpg</td>\n",
              "      <td>0.0</td>\n",
              "      <td>0.0</td>\n",
              "      <td>0.0</td>\n",
              "      <td>0.000277</td>\n",
              "    </tr>\n",
              "    <tr>\n",
              "      <th>3</th>\n",
              "      <td>Desktop\\track2data\\IMG\\center_2019_04_02_18_05_37_853.jpg</td>\n",
              "      <td>Desktop\\track2data\\IMG\\left_2019_04_02_18_05_37_853.jpg</td>\n",
              "      <td>Desktop\\track2data\\IMG\\right_2019_04_02_18_05_37_853.jpg</td>\n",
              "      <td>0.0</td>\n",
              "      <td>0.0</td>\n",
              "      <td>0.0</td>\n",
              "      <td>0.000046</td>\n",
              "    </tr>\n",
              "    <tr>\n",
              "      <th>4</th>\n",
              "      <td>Desktop\\track2data\\IMG\\center_2019_04_02_18_05_37_922.jpg</td>\n",
              "      <td>Desktop\\track2data\\IMG\\left_2019_04_02_18_05_37_922.jpg</td>\n",
              "      <td>Desktop\\track2data\\IMG\\right_2019_04_02_18_05_37_922.jpg</td>\n",
              "      <td>0.0</td>\n",
              "      <td>0.0</td>\n",
              "      <td>0.0</td>\n",
              "      <td>0.000060</td>\n",
              "    </tr>\n",
              "  </tbody>\n",
              "</table>\n",
              "</div>\n",
              "    <div class=\"colab-df-buttons\">\n",
              "\n",
              "  <div class=\"colab-df-container\">\n",
              "    <button class=\"colab-df-convert\" onclick=\"convertToInteractive('df-50537a95-5635-45d3-9dbd-6431f8821715')\"\n",
              "            title=\"Convert this dataframe to an interactive table.\"\n",
              "            style=\"display:none;\">\n",
              "\n",
              "  <svg xmlns=\"http://www.w3.org/2000/svg\" height=\"24px\" viewBox=\"0 -960 960 960\">\n",
              "    <path d=\"M120-120v-720h720v720H120Zm60-500h600v-160H180v160Zm220 220h160v-160H400v160Zm0 220h160v-160H400v160ZM180-400h160v-160H180v160Zm440 0h160v-160H620v160ZM180-180h160v-160H180v160Zm440 0h160v-160H620v160Z\"/>\n",
              "  </svg>\n",
              "    </button>\n",
              "\n",
              "  <style>\n",
              "    .colab-df-container {\n",
              "      display:flex;\n",
              "      gap: 12px;\n",
              "    }\n",
              "\n",
              "    .colab-df-convert {\n",
              "      background-color: #E8F0FE;\n",
              "      border: none;\n",
              "      border-radius: 50%;\n",
              "      cursor: pointer;\n",
              "      display: none;\n",
              "      fill: #1967D2;\n",
              "      height: 32px;\n",
              "      padding: 0 0 0 0;\n",
              "      width: 32px;\n",
              "    }\n",
              "\n",
              "    .colab-df-convert:hover {\n",
              "      background-color: #E2EBFA;\n",
              "      box-shadow: 0px 1px 2px rgba(60, 64, 67, 0.3), 0px 1px 3px 1px rgba(60, 64, 67, 0.15);\n",
              "      fill: #174EA6;\n",
              "    }\n",
              "\n",
              "    .colab-df-buttons div {\n",
              "      margin-bottom: 4px;\n",
              "    }\n",
              "\n",
              "    [theme=dark] .colab-df-convert {\n",
              "      background-color: #3B4455;\n",
              "      fill: #D2E3FC;\n",
              "    }\n",
              "\n",
              "    [theme=dark] .colab-df-convert:hover {\n",
              "      background-color: #434B5C;\n",
              "      box-shadow: 0px 1px 3px 1px rgba(0, 0, 0, 0.15);\n",
              "      filter: drop-shadow(0px 1px 2px rgba(0, 0, 0, 0.3));\n",
              "      fill: #FFFFFF;\n",
              "    }\n",
              "  </style>\n",
              "\n",
              "    <script>\n",
              "      const buttonEl =\n",
              "        document.querySelector('#df-50537a95-5635-45d3-9dbd-6431f8821715 button.colab-df-convert');\n",
              "      buttonEl.style.display =\n",
              "        google.colab.kernel.accessAllowed ? 'block' : 'none';\n",
              "\n",
              "      async function convertToInteractive(key) {\n",
              "        const element = document.querySelector('#df-50537a95-5635-45d3-9dbd-6431f8821715');\n",
              "        const dataTable =\n",
              "          await google.colab.kernel.invokeFunction('convertToInteractive',\n",
              "                                                    [key], {});\n",
              "        if (!dataTable) return;\n",
              "\n",
              "        const docLinkHtml = 'Like what you see? Visit the ' +\n",
              "          '<a target=\"_blank\" href=https://colab.research.google.com/notebooks/data_table.ipynb>data table notebook</a>'\n",
              "          + ' to learn more about interactive tables.';\n",
              "        element.innerHTML = '';\n",
              "        dataTable['output_type'] = 'display_data';\n",
              "        await google.colab.output.renderOutput(dataTable, element);\n",
              "        const docLink = document.createElement('div');\n",
              "        docLink.innerHTML = docLinkHtml;\n",
              "        element.appendChild(docLink);\n",
              "      }\n",
              "    </script>\n",
              "  </div>\n",
              "\n",
              "\n",
              "<div id=\"df-ffe92b06-5ee9-43e6-9baf-d391f2e5d2d6\">\n",
              "  <button class=\"colab-df-quickchart\" onclick=\"quickchart('df-ffe92b06-5ee9-43e6-9baf-d391f2e5d2d6')\"\n",
              "            title=\"Suggest charts\"\n",
              "            style=\"display:none;\">\n",
              "\n",
              "<svg xmlns=\"http://www.w3.org/2000/svg\" height=\"24px\"viewBox=\"0 0 24 24\"\n",
              "     width=\"24px\">\n",
              "    <g>\n",
              "        <path d=\"M19 3H5c-1.1 0-2 .9-2 2v14c0 1.1.9 2 2 2h14c1.1 0 2-.9 2-2V5c0-1.1-.9-2-2-2zM9 17H7v-7h2v7zm4 0h-2V7h2v10zm4 0h-2v-4h2v4z\"/>\n",
              "    </g>\n",
              "</svg>\n",
              "  </button>\n",
              "\n",
              "<style>\n",
              "  .colab-df-quickchart {\n",
              "      --bg-color: #E8F0FE;\n",
              "      --fill-color: #1967D2;\n",
              "      --hover-bg-color: #E2EBFA;\n",
              "      --hover-fill-color: #174EA6;\n",
              "      --disabled-fill-color: #AAA;\n",
              "      --disabled-bg-color: #DDD;\n",
              "  }\n",
              "\n",
              "  [theme=dark] .colab-df-quickchart {\n",
              "      --bg-color: #3B4455;\n",
              "      --fill-color: #D2E3FC;\n",
              "      --hover-bg-color: #434B5C;\n",
              "      --hover-fill-color: #FFFFFF;\n",
              "      --disabled-bg-color: #3B4455;\n",
              "      --disabled-fill-color: #666;\n",
              "  }\n",
              "\n",
              "  .colab-df-quickchart {\n",
              "    background-color: var(--bg-color);\n",
              "    border: none;\n",
              "    border-radius: 50%;\n",
              "    cursor: pointer;\n",
              "    display: none;\n",
              "    fill: var(--fill-color);\n",
              "    height: 32px;\n",
              "    padding: 0;\n",
              "    width: 32px;\n",
              "  }\n",
              "\n",
              "  .colab-df-quickchart:hover {\n",
              "    background-color: var(--hover-bg-color);\n",
              "    box-shadow: 0 1px 2px rgba(60, 64, 67, 0.3), 0 1px 3px 1px rgba(60, 64, 67, 0.15);\n",
              "    fill: var(--button-hover-fill-color);\n",
              "  }\n",
              "\n",
              "  .colab-df-quickchart-complete:disabled,\n",
              "  .colab-df-quickchart-complete:disabled:hover {\n",
              "    background-color: var(--disabled-bg-color);\n",
              "    fill: var(--disabled-fill-color);\n",
              "    box-shadow: none;\n",
              "  }\n",
              "\n",
              "  .colab-df-spinner {\n",
              "    border: 2px solid var(--fill-color);\n",
              "    border-color: transparent;\n",
              "    border-bottom-color: var(--fill-color);\n",
              "    animation:\n",
              "      spin 1s steps(1) infinite;\n",
              "  }\n",
              "\n",
              "  @keyframes spin {\n",
              "    0% {\n",
              "      border-color: transparent;\n",
              "      border-bottom-color: var(--fill-color);\n",
              "      border-left-color: var(--fill-color);\n",
              "    }\n",
              "    20% {\n",
              "      border-color: transparent;\n",
              "      border-left-color: var(--fill-color);\n",
              "      border-top-color: var(--fill-color);\n",
              "    }\n",
              "    30% {\n",
              "      border-color: transparent;\n",
              "      border-left-color: var(--fill-color);\n",
              "      border-top-color: var(--fill-color);\n",
              "      border-right-color: var(--fill-color);\n",
              "    }\n",
              "    40% {\n",
              "      border-color: transparent;\n",
              "      border-right-color: var(--fill-color);\n",
              "      border-top-color: var(--fill-color);\n",
              "    }\n",
              "    60% {\n",
              "      border-color: transparent;\n",
              "      border-right-color: var(--fill-color);\n",
              "    }\n",
              "    80% {\n",
              "      border-color: transparent;\n",
              "      border-right-color: var(--fill-color);\n",
              "      border-bottom-color: var(--fill-color);\n",
              "    }\n",
              "    90% {\n",
              "      border-color: transparent;\n",
              "      border-bottom-color: var(--fill-color);\n",
              "    }\n",
              "  }\n",
              "</style>\n",
              "\n",
              "  <script>\n",
              "    async function quickchart(key) {\n",
              "      const quickchartButtonEl =\n",
              "        document.querySelector('#' + key + ' button');\n",
              "      quickchartButtonEl.disabled = true;  // To prevent multiple clicks.\n",
              "      quickchartButtonEl.classList.add('colab-df-spinner');\n",
              "      try {\n",
              "        const charts = await google.colab.kernel.invokeFunction(\n",
              "            'suggestCharts', [key], {});\n",
              "      } catch (error) {\n",
              "        console.error('Error during call to suggestCharts:', error);\n",
              "      }\n",
              "      quickchartButtonEl.classList.remove('colab-df-spinner');\n",
              "      quickchartButtonEl.classList.add('colab-df-quickchart-complete');\n",
              "    }\n",
              "    (() => {\n",
              "      let quickchartButtonEl =\n",
              "        document.querySelector('#df-ffe92b06-5ee9-43e6-9baf-d391f2e5d2d6 button');\n",
              "      quickchartButtonEl.style.display =\n",
              "        google.colab.kernel.accessAllowed ? 'block' : 'none';\n",
              "    })();\n",
              "  </script>\n",
              "</div>\n",
              "    </div>\n",
              "  </div>\n"
            ],
            "application/vnd.google.colaboratory.intrinsic+json": {
              "type": "dataframe",
              "variable_name": "data",
              "summary": "{\n  \"name\": \"data\",\n  \"rows\": 21828,\n  \"fields\": [\n    {\n      \"column\": \"center\",\n      \"properties\": {\n        \"dtype\": \"string\",\n        \"num_unique_values\": 21828,\n        \"samples\": [\n          \"Desktop\\\\track2data\\\\IMG\\\\center_2019_04_02_18_20_20_236.jpg\",\n          \"Desktop\\\\track2data\\\\IMG\\\\center_2019_04_02_18_28_58_503.jpg\",\n          \"Desktop\\\\track2data\\\\IMG\\\\center_2019_04_02_18_14_38_930.jpg\"\n        ],\n        \"semantic_type\": \"\",\n        \"description\": \"\"\n      }\n    },\n    {\n      \"column\": \"left\",\n      \"properties\": {\n        \"dtype\": \"string\",\n        \"num_unique_values\": 21828,\n        \"samples\": [\n          \"Desktop\\\\track2data\\\\IMG\\\\left_2019_04_02_18_20_20_236.jpg\",\n          \"Desktop\\\\track2data\\\\IMG\\\\left_2019_04_02_18_28_58_503.jpg\",\n          \"Desktop\\\\track2data\\\\IMG\\\\left_2019_04_02_18_14_38_930.jpg\"\n        ],\n        \"semantic_type\": \"\",\n        \"description\": \"\"\n      }\n    },\n    {\n      \"column\": \"right\",\n      \"properties\": {\n        \"dtype\": \"string\",\n        \"num_unique_values\": 21828,\n        \"samples\": [\n          \"Desktop\\\\track2data\\\\IMG\\\\right_2019_04_02_18_20_20_236.jpg\",\n          \"Desktop\\\\track2data\\\\IMG\\\\right_2019_04_02_18_28_58_503.jpg\",\n          \"Desktop\\\\track2data\\\\IMG\\\\right_2019_04_02_18_14_38_930.jpg\"\n        ],\n        \"semantic_type\": \"\",\n        \"description\": \"\"\n      }\n    },\n    {\n      \"column\": \"steering\",\n      \"properties\": {\n        \"dtype\": \"number\",\n        \"std\": 0.4618912230557448,\n        \"min\": -1.0,\n        \"max\": 1.0,\n        \"num_unique_values\": 41,\n        \"samples\": [\n          0.35,\n          0.8500001,\n          0.05\n        ],\n        \"semantic_type\": \"\",\n        \"description\": \"\"\n      }\n    },\n    {\n      \"column\": \"throttle\",\n      \"properties\": {\n        \"dtype\": \"number\",\n        \"std\": 0.2868858051763143,\n        \"min\": 0.0,\n        \"max\": 1.0,\n        \"num_unique_values\": 10252,\n        \"samples\": [\n          0.3060365,\n          0.3268857,\n          0.3488706\n        ],\n        \"semantic_type\": \"\",\n        \"description\": \"\"\n      }\n    },\n    {\n      \"column\": \"reverse\",\n      \"properties\": {\n        \"dtype\": \"number\",\n        \"std\": 0.11989309441743533,\n        \"min\": 0.0,\n        \"max\": 1.0,\n        \"num_unique_values\": 1711,\n        \"samples\": [\n          0.5349237,\n          0.2837861,\n          0.3833249\n        ],\n        \"semantic_type\": \"\",\n        \"description\": \"\"\n      }\n    },\n    {\n      \"column\": \"speed\",\n      \"properties\": {\n        \"dtype\": \"number\",\n        \"std\": 2.7422589671476256,\n        \"min\": 1.835208e-05,\n        \"max\": 19.29511,\n        \"num_unique_values\": 21743,\n        \"samples\": [\n          10.8624,\n          0.2578626,\n          13.64135\n        ],\n        \"semantic_type\": \"\",\n        \"description\": \"\"\n      }\n    }\n  ]\n}"
            }
          },
          "metadata": {},
          "execution_count": 4
        }
      ]
    },
    {
      "cell_type": "code",
      "source": [
        "def path_leaf(path):\n",
        "  head, tail = ntpath.split(path)\n",
        "  return tail\n",
        "data['center'] = data['center'].apply(path_leaf)\n",
        "data['left'] = data['left'].apply(path_leaf)\n",
        "data['right'] = data['right'].apply(path_leaf)"
      ],
      "metadata": {
        "id": "eGhS4atldTzS"
      },
      "execution_count": 5,
      "outputs": []
    },
    {
      "cell_type": "code",
      "source": [
        "data.head()"
      ],
      "metadata": {
        "id": "VwhYyET_fBhS",
        "outputId": "17b7fc4d-b7ff-4f1c-84c6-6f9397e876c0",
        "colab": {
          "base_uri": "https://localhost:8080/",
          "height": 206
        }
      },
      "execution_count": 6,
      "outputs": [
        {
          "output_type": "execute_result",
          "data": {
            "text/plain": [
              "                               center                              left  \\\n",
              "0  center_2019_04_02_18_05_37_641.jpg  left_2019_04_02_18_05_37_641.jpg   \n",
              "1  center_2019_04_02_18_05_37_712.jpg  left_2019_04_02_18_05_37_712.jpg   \n",
              "2  center_2019_04_02_18_05_37_783.jpg  left_2019_04_02_18_05_37_783.jpg   \n",
              "3  center_2019_04_02_18_05_37_853.jpg  left_2019_04_02_18_05_37_853.jpg   \n",
              "4  center_2019_04_02_18_05_37_922.jpg  left_2019_04_02_18_05_37_922.jpg   \n",
              "\n",
              "                               right  steering  throttle  reverse     speed  \n",
              "0  right_2019_04_02_18_05_37_641.jpg       0.0       0.0      0.0  0.000275  \n",
              "1  right_2019_04_02_18_05_37_712.jpg       0.0       0.0      0.0  0.000280  \n",
              "2  right_2019_04_02_18_05_37_783.jpg       0.0       0.0      0.0  0.000277  \n",
              "3  right_2019_04_02_18_05_37_853.jpg       0.0       0.0      0.0  0.000046  \n",
              "4  right_2019_04_02_18_05_37_922.jpg       0.0       0.0      0.0  0.000060  "
            ],
            "text/html": [
              "\n",
              "  <div id=\"df-a5427cbc-cf1a-4a36-a4d2-e13bb01a193f\" class=\"colab-df-container\">\n",
              "    <div>\n",
              "<style scoped>\n",
              "    .dataframe tbody tr th:only-of-type {\n",
              "        vertical-align: middle;\n",
              "    }\n",
              "\n",
              "    .dataframe tbody tr th {\n",
              "        vertical-align: top;\n",
              "    }\n",
              "\n",
              "    .dataframe thead th {\n",
              "        text-align: right;\n",
              "    }\n",
              "</style>\n",
              "<table border=\"1\" class=\"dataframe\">\n",
              "  <thead>\n",
              "    <tr style=\"text-align: right;\">\n",
              "      <th></th>\n",
              "      <th>center</th>\n",
              "      <th>left</th>\n",
              "      <th>right</th>\n",
              "      <th>steering</th>\n",
              "      <th>throttle</th>\n",
              "      <th>reverse</th>\n",
              "      <th>speed</th>\n",
              "    </tr>\n",
              "  </thead>\n",
              "  <tbody>\n",
              "    <tr>\n",
              "      <th>0</th>\n",
              "      <td>center_2019_04_02_18_05_37_641.jpg</td>\n",
              "      <td>left_2019_04_02_18_05_37_641.jpg</td>\n",
              "      <td>right_2019_04_02_18_05_37_641.jpg</td>\n",
              "      <td>0.0</td>\n",
              "      <td>0.0</td>\n",
              "      <td>0.0</td>\n",
              "      <td>0.000275</td>\n",
              "    </tr>\n",
              "    <tr>\n",
              "      <th>1</th>\n",
              "      <td>center_2019_04_02_18_05_37_712.jpg</td>\n",
              "      <td>left_2019_04_02_18_05_37_712.jpg</td>\n",
              "      <td>right_2019_04_02_18_05_37_712.jpg</td>\n",
              "      <td>0.0</td>\n",
              "      <td>0.0</td>\n",
              "      <td>0.0</td>\n",
              "      <td>0.000280</td>\n",
              "    </tr>\n",
              "    <tr>\n",
              "      <th>2</th>\n",
              "      <td>center_2019_04_02_18_05_37_783.jpg</td>\n",
              "      <td>left_2019_04_02_18_05_37_783.jpg</td>\n",
              "      <td>right_2019_04_02_18_05_37_783.jpg</td>\n",
              "      <td>0.0</td>\n",
              "      <td>0.0</td>\n",
              "      <td>0.0</td>\n",
              "      <td>0.000277</td>\n",
              "    </tr>\n",
              "    <tr>\n",
              "      <th>3</th>\n",
              "      <td>center_2019_04_02_18_05_37_853.jpg</td>\n",
              "      <td>left_2019_04_02_18_05_37_853.jpg</td>\n",
              "      <td>right_2019_04_02_18_05_37_853.jpg</td>\n",
              "      <td>0.0</td>\n",
              "      <td>0.0</td>\n",
              "      <td>0.0</td>\n",
              "      <td>0.000046</td>\n",
              "    </tr>\n",
              "    <tr>\n",
              "      <th>4</th>\n",
              "      <td>center_2019_04_02_18_05_37_922.jpg</td>\n",
              "      <td>left_2019_04_02_18_05_37_922.jpg</td>\n",
              "      <td>right_2019_04_02_18_05_37_922.jpg</td>\n",
              "      <td>0.0</td>\n",
              "      <td>0.0</td>\n",
              "      <td>0.0</td>\n",
              "      <td>0.000060</td>\n",
              "    </tr>\n",
              "  </tbody>\n",
              "</table>\n",
              "</div>\n",
              "    <div class=\"colab-df-buttons\">\n",
              "\n",
              "  <div class=\"colab-df-container\">\n",
              "    <button class=\"colab-df-convert\" onclick=\"convertToInteractive('df-a5427cbc-cf1a-4a36-a4d2-e13bb01a193f')\"\n",
              "            title=\"Convert this dataframe to an interactive table.\"\n",
              "            style=\"display:none;\">\n",
              "\n",
              "  <svg xmlns=\"http://www.w3.org/2000/svg\" height=\"24px\" viewBox=\"0 -960 960 960\">\n",
              "    <path d=\"M120-120v-720h720v720H120Zm60-500h600v-160H180v160Zm220 220h160v-160H400v160Zm0 220h160v-160H400v160ZM180-400h160v-160H180v160Zm440 0h160v-160H620v160ZM180-180h160v-160H180v160Zm440 0h160v-160H620v160Z\"/>\n",
              "  </svg>\n",
              "    </button>\n",
              "\n",
              "  <style>\n",
              "    .colab-df-container {\n",
              "      display:flex;\n",
              "      gap: 12px;\n",
              "    }\n",
              "\n",
              "    .colab-df-convert {\n",
              "      background-color: #E8F0FE;\n",
              "      border: none;\n",
              "      border-radius: 50%;\n",
              "      cursor: pointer;\n",
              "      display: none;\n",
              "      fill: #1967D2;\n",
              "      height: 32px;\n",
              "      padding: 0 0 0 0;\n",
              "      width: 32px;\n",
              "    }\n",
              "\n",
              "    .colab-df-convert:hover {\n",
              "      background-color: #E2EBFA;\n",
              "      box-shadow: 0px 1px 2px rgba(60, 64, 67, 0.3), 0px 1px 3px 1px rgba(60, 64, 67, 0.15);\n",
              "      fill: #174EA6;\n",
              "    }\n",
              "\n",
              "    .colab-df-buttons div {\n",
              "      margin-bottom: 4px;\n",
              "    }\n",
              "\n",
              "    [theme=dark] .colab-df-convert {\n",
              "      background-color: #3B4455;\n",
              "      fill: #D2E3FC;\n",
              "    }\n",
              "\n",
              "    [theme=dark] .colab-df-convert:hover {\n",
              "      background-color: #434B5C;\n",
              "      box-shadow: 0px 1px 3px 1px rgba(0, 0, 0, 0.15);\n",
              "      filter: drop-shadow(0px 1px 2px rgba(0, 0, 0, 0.3));\n",
              "      fill: #FFFFFF;\n",
              "    }\n",
              "  </style>\n",
              "\n",
              "    <script>\n",
              "      const buttonEl =\n",
              "        document.querySelector('#df-a5427cbc-cf1a-4a36-a4d2-e13bb01a193f button.colab-df-convert');\n",
              "      buttonEl.style.display =\n",
              "        google.colab.kernel.accessAllowed ? 'block' : 'none';\n",
              "\n",
              "      async function convertToInteractive(key) {\n",
              "        const element = document.querySelector('#df-a5427cbc-cf1a-4a36-a4d2-e13bb01a193f');\n",
              "        const dataTable =\n",
              "          await google.colab.kernel.invokeFunction('convertToInteractive',\n",
              "                                                    [key], {});\n",
              "        if (!dataTable) return;\n",
              "\n",
              "        const docLinkHtml = 'Like what you see? Visit the ' +\n",
              "          '<a target=\"_blank\" href=https://colab.research.google.com/notebooks/data_table.ipynb>data table notebook</a>'\n",
              "          + ' to learn more about interactive tables.';\n",
              "        element.innerHTML = '';\n",
              "        dataTable['output_type'] = 'display_data';\n",
              "        await google.colab.output.renderOutput(dataTable, element);\n",
              "        const docLink = document.createElement('div');\n",
              "        docLink.innerHTML = docLinkHtml;\n",
              "        element.appendChild(docLink);\n",
              "      }\n",
              "    </script>\n",
              "  </div>\n",
              "\n",
              "\n",
              "<div id=\"df-2ae25b25-5181-4fb8-bf03-90123796155d\">\n",
              "  <button class=\"colab-df-quickchart\" onclick=\"quickchart('df-2ae25b25-5181-4fb8-bf03-90123796155d')\"\n",
              "            title=\"Suggest charts\"\n",
              "            style=\"display:none;\">\n",
              "\n",
              "<svg xmlns=\"http://www.w3.org/2000/svg\" height=\"24px\"viewBox=\"0 0 24 24\"\n",
              "     width=\"24px\">\n",
              "    <g>\n",
              "        <path d=\"M19 3H5c-1.1 0-2 .9-2 2v14c0 1.1.9 2 2 2h14c1.1 0 2-.9 2-2V5c0-1.1-.9-2-2-2zM9 17H7v-7h2v7zm4 0h-2V7h2v10zm4 0h-2v-4h2v4z\"/>\n",
              "    </g>\n",
              "</svg>\n",
              "  </button>\n",
              "\n",
              "<style>\n",
              "  .colab-df-quickchart {\n",
              "      --bg-color: #E8F0FE;\n",
              "      --fill-color: #1967D2;\n",
              "      --hover-bg-color: #E2EBFA;\n",
              "      --hover-fill-color: #174EA6;\n",
              "      --disabled-fill-color: #AAA;\n",
              "      --disabled-bg-color: #DDD;\n",
              "  }\n",
              "\n",
              "  [theme=dark] .colab-df-quickchart {\n",
              "      --bg-color: #3B4455;\n",
              "      --fill-color: #D2E3FC;\n",
              "      --hover-bg-color: #434B5C;\n",
              "      --hover-fill-color: #FFFFFF;\n",
              "      --disabled-bg-color: #3B4455;\n",
              "      --disabled-fill-color: #666;\n",
              "  }\n",
              "\n",
              "  .colab-df-quickchart {\n",
              "    background-color: var(--bg-color);\n",
              "    border: none;\n",
              "    border-radius: 50%;\n",
              "    cursor: pointer;\n",
              "    display: none;\n",
              "    fill: var(--fill-color);\n",
              "    height: 32px;\n",
              "    padding: 0;\n",
              "    width: 32px;\n",
              "  }\n",
              "\n",
              "  .colab-df-quickchart:hover {\n",
              "    background-color: var(--hover-bg-color);\n",
              "    box-shadow: 0 1px 2px rgba(60, 64, 67, 0.3), 0 1px 3px 1px rgba(60, 64, 67, 0.15);\n",
              "    fill: var(--button-hover-fill-color);\n",
              "  }\n",
              "\n",
              "  .colab-df-quickchart-complete:disabled,\n",
              "  .colab-df-quickchart-complete:disabled:hover {\n",
              "    background-color: var(--disabled-bg-color);\n",
              "    fill: var(--disabled-fill-color);\n",
              "    box-shadow: none;\n",
              "  }\n",
              "\n",
              "  .colab-df-spinner {\n",
              "    border: 2px solid var(--fill-color);\n",
              "    border-color: transparent;\n",
              "    border-bottom-color: var(--fill-color);\n",
              "    animation:\n",
              "      spin 1s steps(1) infinite;\n",
              "  }\n",
              "\n",
              "  @keyframes spin {\n",
              "    0% {\n",
              "      border-color: transparent;\n",
              "      border-bottom-color: var(--fill-color);\n",
              "      border-left-color: var(--fill-color);\n",
              "    }\n",
              "    20% {\n",
              "      border-color: transparent;\n",
              "      border-left-color: var(--fill-color);\n",
              "      border-top-color: var(--fill-color);\n",
              "    }\n",
              "    30% {\n",
              "      border-color: transparent;\n",
              "      border-left-color: var(--fill-color);\n",
              "      border-top-color: var(--fill-color);\n",
              "      border-right-color: var(--fill-color);\n",
              "    }\n",
              "    40% {\n",
              "      border-color: transparent;\n",
              "      border-right-color: var(--fill-color);\n",
              "      border-top-color: var(--fill-color);\n",
              "    }\n",
              "    60% {\n",
              "      border-color: transparent;\n",
              "      border-right-color: var(--fill-color);\n",
              "    }\n",
              "    80% {\n",
              "      border-color: transparent;\n",
              "      border-right-color: var(--fill-color);\n",
              "      border-bottom-color: var(--fill-color);\n",
              "    }\n",
              "    90% {\n",
              "      border-color: transparent;\n",
              "      border-bottom-color: var(--fill-color);\n",
              "    }\n",
              "  }\n",
              "</style>\n",
              "\n",
              "  <script>\n",
              "    async function quickchart(key) {\n",
              "      const quickchartButtonEl =\n",
              "        document.querySelector('#' + key + ' button');\n",
              "      quickchartButtonEl.disabled = true;  // To prevent multiple clicks.\n",
              "      quickchartButtonEl.classList.add('colab-df-spinner');\n",
              "      try {\n",
              "        const charts = await google.colab.kernel.invokeFunction(\n",
              "            'suggestCharts', [key], {});\n",
              "      } catch (error) {\n",
              "        console.error('Error during call to suggestCharts:', error);\n",
              "      }\n",
              "      quickchartButtonEl.classList.remove('colab-df-spinner');\n",
              "      quickchartButtonEl.classList.add('colab-df-quickchart-complete');\n",
              "    }\n",
              "    (() => {\n",
              "      let quickchartButtonEl =\n",
              "        document.querySelector('#df-2ae25b25-5181-4fb8-bf03-90123796155d button');\n",
              "      quickchartButtonEl.style.display =\n",
              "        google.colab.kernel.accessAllowed ? 'block' : 'none';\n",
              "    })();\n",
              "  </script>\n",
              "</div>\n",
              "    </div>\n",
              "  </div>\n"
            ],
            "application/vnd.google.colaboratory.intrinsic+json": {
              "type": "dataframe",
              "variable_name": "data",
              "summary": "{\n  \"name\": \"data\",\n  \"rows\": 21828,\n  \"fields\": [\n    {\n      \"column\": \"center\",\n      \"properties\": {\n        \"dtype\": \"string\",\n        \"num_unique_values\": 21828,\n        \"samples\": [\n          \"center_2019_04_02_18_20_20_236.jpg\",\n          \"center_2019_04_02_18_28_58_503.jpg\",\n          \"center_2019_04_02_18_14_38_930.jpg\"\n        ],\n        \"semantic_type\": \"\",\n        \"description\": \"\"\n      }\n    },\n    {\n      \"column\": \"left\",\n      \"properties\": {\n        \"dtype\": \"string\",\n        \"num_unique_values\": 21828,\n        \"samples\": [\n          \"left_2019_04_02_18_20_20_236.jpg\",\n          \"left_2019_04_02_18_28_58_503.jpg\",\n          \"left_2019_04_02_18_14_38_930.jpg\"\n        ],\n        \"semantic_type\": \"\",\n        \"description\": \"\"\n      }\n    },\n    {\n      \"column\": \"right\",\n      \"properties\": {\n        \"dtype\": \"string\",\n        \"num_unique_values\": 21828,\n        \"samples\": [\n          \"right_2019_04_02_18_20_20_236.jpg\",\n          \"right_2019_04_02_18_28_58_503.jpg\",\n          \"right_2019_04_02_18_14_38_930.jpg\"\n        ],\n        \"semantic_type\": \"\",\n        \"description\": \"\"\n      }\n    },\n    {\n      \"column\": \"steering\",\n      \"properties\": {\n        \"dtype\": \"number\",\n        \"std\": 0.4618912230557448,\n        \"min\": -1.0,\n        \"max\": 1.0,\n        \"num_unique_values\": 41,\n        \"samples\": [\n          0.35,\n          0.8500001,\n          0.05\n        ],\n        \"semantic_type\": \"\",\n        \"description\": \"\"\n      }\n    },\n    {\n      \"column\": \"throttle\",\n      \"properties\": {\n        \"dtype\": \"number\",\n        \"std\": 0.2868858051763143,\n        \"min\": 0.0,\n        \"max\": 1.0,\n        \"num_unique_values\": 10252,\n        \"samples\": [\n          0.3060365,\n          0.3268857,\n          0.3488706\n        ],\n        \"semantic_type\": \"\",\n        \"description\": \"\"\n      }\n    },\n    {\n      \"column\": \"reverse\",\n      \"properties\": {\n        \"dtype\": \"number\",\n        \"std\": 0.11989309441743533,\n        \"min\": 0.0,\n        \"max\": 1.0,\n        \"num_unique_values\": 1711,\n        \"samples\": [\n          0.5349237,\n          0.2837861,\n          0.3833249\n        ],\n        \"semantic_type\": \"\",\n        \"description\": \"\"\n      }\n    },\n    {\n      \"column\": \"speed\",\n      \"properties\": {\n        \"dtype\": \"number\",\n        \"std\": 2.7422589671476256,\n        \"min\": 1.835208e-05,\n        \"max\": 19.29511,\n        \"num_unique_values\": 21743,\n        \"samples\": [\n          10.8624,\n          0.2578626,\n          13.64135\n        ],\n        \"semantic_type\": \"\",\n        \"description\": \"\"\n      }\n    }\n  ]\n}"
            }
          },
          "metadata": {},
          "execution_count": 6
        }
      ]
    },
    {
      "cell_type": "code",
      "source": [
        "num_bins = 25\n",
        "samples_per_bin = 6000\n",
        "hist, bins = np.histogram(data['steering'], num_bins)\n",
        "center = (bins[:-1]+ bins[1:]) * 0.5\n",
        "plt.bar(center, hist, width=0.05)\n",
        "plt.plot((np.min(data['steering']), np.max(data['steering'])), (samples_per_bin, samples_per_bin))"
      ],
      "metadata": {
        "id": "14L-PMwkdYaa",
        "outputId": "11267dde-a8f4-4071-e27f-edf60e3debc2",
        "colab": {
          "base_uri": "https://localhost:8080/",
          "height": 447
        }
      },
      "execution_count": 7,
      "outputs": [
        {
          "output_type": "execute_result",
          "data": {
            "text/plain": [
              "[<matplotlib.lines.Line2D at 0x7d2940ff9810>]"
            ]
          },
          "metadata": {},
          "execution_count": 7
        },
        {
          "output_type": "display_data",
          "data": {
            "text/plain": [
              "<Figure size 640x480 with 1 Axes>"
            ],
            "image/png": "[encoded data removed]"
          },
          "metadata": {}
        }
      ]
    },
    {
      "cell_type": "code",
      "source": [
        "remove_list = []\n",
        "for j in range(num_bins):\n",
        "  list_ = []\n",
        "  for i in range(len(data['steering'])):\n",
        "    if data['steering'][i] >= bins[j] and data['steering'][i] <= bins[j+1]:\n",
        "      list_.append(i)\n",
        "  list_ = shuffle(list_)\n",
        "  list_ = list_[samples_per_bin:]\n",
        "  remove_list.extend(list_)\n",
        "\n",
        "print('removed: ', len(remove_list))\n",
        "data.drop(data.index[remove_list], inplace=True)\n",
        "print('remaining: ', len(data))"
      ],
      "metadata": {
        "id": "uyjxWo0xdb6e",
        "outputId": "cbbd9875-adbe-46de-fa46-9d2a040e25dc",
        "colab": {
          "base_uri": "https://localhost:8080/"
        }
      },
      "execution_count": 8,
      "outputs": [
        {
          "output_type": "stream",
          "name": "stdout",
          "text": [
            "removed:  4575\n",
            "remaining:  17253\n"
          ]
        }
      ]
    },
    {
      "cell_type": "code",
      "source": [
        "hist, bins = np.histogram(data['steering'], (num_bins))"
      ],
      "metadata": {
        "id": "VY6la1iggiTb"
      },
      "execution_count": 13,
      "outputs": []
    },
    {
      "cell_type": "code",
      "source": [
        "def load_img_steering(datadir, df):\n",
        "  image_path = []\n",
        "  steering = []\n",
        "  for i in range(len(data)):\n",
        "    indexed_data = data.iloc[i]\n",
        "    center, left, right = indexed_data[0], indexed_data[1], indexed_data[2]\n",
        "    image_path.append(os.path.join(datadir, center.strip()))\n",
        "    steering.append(float(indexed_data[3]))\n",
        "    image_path.append(os.path.join(datadir,left.strip()))\n",
        "    steering.append(float(indexed_data[3])+0.15)\n",
        "    image_path.append(os.path.join(datadir,right.strip()))\n",
        "    steering.append(float(indexed_data[3])-0.15)\n",
        "  image_paths = np.asarray(image_path)\n",
        "  steerings = np.asarray(steering)\n",
        "  return image_paths, steerings"
      ],
      "metadata": {
        "id": "crfq3EZdeh29"
      },
      "execution_count": 14,
      "outputs": []
    },
    {
      "cell_type": "code",
      "source": [
        "image_paths, steerings = load_img_steering(datadir + '/IMG', data)"
      ],
      "metadata": {
        "id": "z6PonMV3entI"
      },
      "execution_count": 15,
      "outputs": []
    },
    {
      "cell_type": "code",
      "source": [
        "image_paths"
      ],
      "metadata": {
        "id": "7NZ9nowVeq_s",
        "outputId": "34cbd6c9-a7bd-4a06-8475-c75b548569c1",
        "colab": {
          "base_uri": "https://localhost:8080/"
        }
      },
      "execution_count": 16,
      "outputs": [
        {
          "output_type": "execute_result",
          "data": {
            "text/plain": [
              "array(['/content/Self_driving/drive2/IMG/center_2019_04_02_18_05_37_993.jpg',\n",
              "       '/content/Self_driving/drive2/IMG/left_2019_04_02_18_05_37_993.jpg',\n",
              "       '/content/Self_driving/drive2/IMG/right_2019_04_02_18_05_37_993.jpg',\n",
              "       ...,\n",
              "       '/content/Self_driving/drive2/IMG/center_2019_04_02_18_31_04_640.jpg',\n",
              "       '/content/Self_driving/drive2/IMG/left_2019_04_02_18_31_04_640.jpg',\n",
              "       '/content/Self_driving/drive2/IMG/right_2019_04_02_18_31_04_640.jpg'],\n",
              "      dtype='<U67')"
            ]
          },
          "metadata": {},
          "execution_count": 16
        }
      ]
    },
    {
      "cell_type": "code",
      "source": [
        "X_train, X_valid, y_train, y_valid = train_test_split(image_paths, steerings, test_size=0.2, random_state = 6)\n",
        "print('Training Samples: {}\\nValid Samples: {}'.format(len(X_train), len(X_valid)))"
      ],
      "metadata": {
        "id": "7RNJTAHbeuFS",
        "outputId": "d22aa895-0a48-4730-8380-52c216f44a8c",
        "colab": {
          "base_uri": "https://localhost:8080/"
        }
      },
      "execution_count": 17,
      "outputs": [
        {
          "output_type": "stream",
          "name": "stdout",
          "text": [
            "Training Samples: 41407\n",
            "Valid Samples: 10352\n"
          ]
        }
      ]
    },
    {
      "cell_type": "code",
      "source": [
        "fig, axes = plt.subplots(1, 2, figsize=(12, 4))\n",
        "axes[0].hist(y_train, bins=num_bins, width=0.05, color='blue')\n",
        "axes[0].set_title('Training set')\n",
        "axes[1].hist(y_valid, bins=num_bins, width=0.05, color='red')\n",
        "axes[1].set_title('Validation set')"
      ],
      "metadata": {
        "id": "aSSgFJbhwok6",
        "outputId": "99ef3e68-f74f-441d-fe08-364ea077af1c",
        "colab": {
          "base_uri": "https://localhost:8080/",
          "height": 408
        }
      },
      "execution_count": 18,
      "outputs": [
        {
          "output_type": "execute_result",
          "data": {
            "text/plain": [
              "Text(0.5, 1.0, 'Validation set')"
            ]
          },
          "metadata": {},
          "execution_count": 18
        },
        {
          "output_type": "display_data",
          "data": {
            "text/plain": [
              "<Figure size 1200x400 with 2 Axes>"
            ],
            "image/png": "[encoded data removed]"
          },
          "metadata": {}
        }
      ]
    },
    {
      "cell_type": "code",
      "source": [
        "def zoom(image):\n",
        "  zoom = iaa.Affine(scale=(1, 1.3))\n",
        "  image = zoom.augment_image(image)\n",
        "  return image\n",
        "\n",
        "def pan(image):\n",
        "  pan = iaa.Affine(translate_percent= {\"x\" : (-0.1, 0.1), \"y\": (-0.1, 0.1)})\n",
        "  image = pan.augment_image(image)\n",
        "  return image\n",
        "\n",
        "def img_random_brightness(image):\n",
        "    brightness = iaa.Multiply((0.2, 1.2))\n",
        "    image = brightness.augment_image(image)\n",
        "    return image\n",
        "\n",
        "def img_random_flip(image, steering_angle):\n",
        "    image = cv2.flip(image,1)\n",
        "    steering_angle = -steering_angle\n",
        "    return image, steering_angle\n"
      ],
      "metadata": {
        "id": "ysHNCHn7exPN"
      },
      "execution_count": 19,
      "outputs": []
    },
    {
      "cell_type": "code",
      "source": [
        "def random_augment(image, steering_angle):\n",
        "    image = mpimg.imread(image)\n",
        "    if np.random.rand() < 0.5:\n",
        "      image = pan(image)\n",
        "    if np.random.rand() < 0.5:\n",
        "      image = zoom(image)\n",
        "    if np.random.rand() < 0.5:\n",
        "      image = img_random_brightness(image)\n",
        "    if np.random.rand() < 0.5:\n",
        "      image, steering_angle = img_random_flip(image, steering_angle)\n",
        "\n",
        "    return image, steering_angle"
      ],
      "metadata": {
        "id": "CkjQDs8Je08o"
      },
      "execution_count": 20,
      "outputs": []
    },
    {
      "cell_type": "code",
      "source": [
        "def img_preprocess(img):\n",
        "  img = img[60:135,:,:]\n",
        "  img = cv2.cvtColor(img, cv2.COLOR_RGB2YUV)\n",
        "  img = cv2.GaussianBlur(img, (3, 3), 0)\n",
        "  img = cv2.resize(img, (200, 66))\n",
        "  img = img/255\n",
        "  return img"
      ],
      "metadata": {
        "id": "G-A472O-e3f0"
      },
      "execution_count": 21,
      "outputs": []
    },
    {
      "cell_type": "code",
      "source": [
        "def batch_generator(image_paths, steering_ang, batch_size, istraining):\n",
        "\n",
        "  while True:\n",
        "    batch_img = []\n",
        "    batch_steering = []\n",
        "\n",
        "    for i in range(batch_size):\n",
        "      random_index = random.randint(0, len(image_paths) - 1)\n",
        "\n",
        "      if istraining:\n",
        "        im, steering = random_augment(image_paths[random_index], steering_ang[random_index])\n",
        "\n",
        "      else:\n",
        "        im = mpimg.imread(image_paths[random_index])\n",
        "        steering = steering_ang[random_index]\n",
        "\n",
        "      im = img_preprocess(im)\n",
        "      batch_img.append(im)\n",
        "      batch_steering.append(steering)\n",
        "    yield (np.asarray(batch_img), np.asarray(batch_steering))"
      ],
      "metadata": {
        "id": "f0RTHoYUe5t-"
      },
      "execution_count": 22,
      "outputs": []
    },
    {
      "cell_type": "code",
      "source": [
        "def nvidia_model():\n",
        "  model = Sequential()\n",
        "  model.add(Conv2D(24, (5, 5), strides=(2, 2), input_shape=(66, 200, 3), activation='elu'))\n",
        "  model.add(Conv2D(36, (5, 5), strides=(2, 2), activation='elu'))\n",
        "  model.add(Conv2D(48, (5, 5), strides=(2, 2), activation='elu'))\n",
        "  model.add(Conv2D(64, (5, 5), activation='elu'))\n",
        "\n",
        "\n",
        "  model.add(Flatten())\n",
        "\n",
        "  model.add(Dense(100, activation = 'elu'))\n",
        "\n",
        "  model.add(Dense(50, activation = 'elu'))\n",
        "\n",
        "  model.add(Dense(10, activation = 'elu'))\n",
        "\n",
        "\n",
        "  model.add(Dense(1))\n",
        "\n",
        "  optimizer = tf.keras.optimizers.Adam(learning_rate=1e-3)\n",
        "  model.compile(loss='mse', optimizer=optimizer)\n",
        "  return model\n",
        "\n",
        "model = nvidia_model()\n",
        "print(model.summary())"
      ],
      "metadata": {
        "id": "8am69DFle8Ce",
        "outputId": "d610a341-68cf-45b5-b8be-abe391833688",
        "colab": {
          "base_uri": "https://localhost:8080/"
        }
      },
      "execution_count": 26,
      "outputs": [
        {
          "output_type": "stream",
          "name": "stdout",
          "text": [
            "Model: \"sequential_1\"\n",
            "_________________________________________________________________\n",
            " Layer (type)                Output Shape              Param #   \n",
            "=================================================================\n",
            " conv2d_5 (Conv2D)           (None, 31, 98, 24)        1824      \n",
            "                                                                 \n",
            " conv2d_6 (Conv2D)           (None, 14, 47, 36)        21636     \n",
            "                                                                 \n",
            " conv2d_7 (Conv2D)           (None, 5, 22, 48)         43248     \n",
            "                                                                 \n",
            " conv2d_8 (Conv2D)           (None, 1, 18, 64)         76864     \n",
            "                                                                 \n",
            " flatten_1 (Flatten)         (None, 1152)              0         \n",
            "                                                                 \n",
            " dense_4 (Dense)             (None, 100)               115300    \n",
            "                                                                 \n",
            " dense_5 (Dense)             (None, 50)                5050      \n",
            "                                                                 \n",
            " dense_6 (Dense)             (None, 10)                510       \n",
            "                                                                 \n",
            " dense_7 (Dense)             (None, 1)                 11        \n",
            "                                                                 \n",
            "=================================================================\n",
            "Total params: 264443 (1.01 MB)\n",
            "Trainable params: 264443 (1.01 MB)\n",
            "Non-trainable params: 0 (0.00 Byte)\n",
            "_________________________________________________________________\n",
            "None\n"
          ]
        }
      ]
    },
    {
      "cell_type": "code",
      "source": [
        "# def get_model():\n",
        "#     model = Sequential([\n",
        "#         Conv2D(24, kernel_size=(5,5), strides=(2,2), activation='relu', input_shape=(66, 200, 3)),\n",
        "#         BatchNormalization(axis=1),\n",
        "#         Conv2D(36, kernel_size=(5,5), strides=(2,2), activation='relu'),\n",
        "#         BatchNormalization(axis=1),\n",
        "#         Conv2D(48, kernel_size=(5,5), strides=(2,2), activation='relu'),\n",
        "#         BatchNormalization(axis=1),\n",
        "#         Conv2D(64, kernel_size=(3,3), strides=(1,1), activation='relu'),\n",
        "#         BatchNormalization(axis=1),\n",
        "#         Conv2D(64, kernel_size=(3,3), strides=(1,1), activation='relu'),\n",
        "#         BatchNormalization(axis=1),\n",
        "#         Flatten(),\n",
        "#         Dense(100, activation='relu'),\n",
        "#         BatchNormalization(),\n",
        "#         Dense(50, activation='relu'),\n",
        "#         BatchNormalization(),\n",
        "#         Dense(10, activation='relu'),\n",
        "#         BatchNormalization(),\n",
        "#         Dense(1)\n",
        "#     ])\n",
        "\n",
        "#     return model\n",
        "\n",
        "# model = get_model()\n",
        "# initial_learning_rate = 0.001\n",
        "# lr_schedule = schedules.ExponentialDecay(\n",
        "#     initial_learning_rate,\n",
        "#     decay_steps=10000,\n",
        "#     decay_rate=0.9,\n",
        "#     staircase=True)\n",
        "\n",
        "# sgd = SGD(learning_rate=lr_schedule, momentum=0.9, nesterov=True)\n",
        "# model.compile(optimizer=sgd, loss=\"mse\")\n",
        "# model.summary()"
      ],
      "metadata": {
        "id": "5smapnxpwxXr",
        "outputId": "363eada8-9bf2-40ff-d91a-d6c659905725",
        "colab": {
          "base_uri": "https://localhost:8080/"
        }
      },
      "execution_count": 23,
      "outputs": [
        {
          "output_type": "stream",
          "name": "stdout",
          "text": [
            "Model: \"sequential\"\n",
            "_________________________________________________________________\n",
            " Layer (type)                Output Shape              Param #   \n",
            "=================================================================\n",
            " conv2d (Conv2D)             (None, 31, 98, 24)        1824      \n",
            "                                                                 \n",
            " batch_normalization (Batch  (None, 31, 98, 24)        124       \n",
            " Normalization)                                                  \n",
            "                                                                 \n",
            " conv2d_1 (Conv2D)           (None, 14, 47, 36)        21636     \n",
            "                                                                 \n",
            " batch_normalization_1 (Bat  (None, 14, 47, 36)        56        \n",
            " chNormalization)                                                \n",
            "                                                                 \n",
            " conv2d_2 (Conv2D)           (None, 5, 22, 48)         43248     \n",
            "                                                                 \n",
            " batch_normalization_2 (Bat  (None, 5, 22, 48)         20        \n",
            " chNormalization)                                                \n",
            "                                                                 \n",
            " conv2d_3 (Conv2D)           (None, 3, 20, 64)         27712     \n",
            "                                                                 \n",
            " batch_normalization_3 (Bat  (None, 3, 20, 64)         12        \n",
            " chNormalization)                                                \n",
            "                                                                 \n",
            " conv2d_4 (Conv2D)           (None, 1, 18, 64)         36928     \n",
            "                                                                 \n",
            " batch_normalization_4 (Bat  (None, 1, 18, 64)         4         \n",
            " chNormalization)                                                \n",
            "                                                                 \n",
            " flatten (Flatten)           (None, 1152)              0         \n",
            "                                                                 \n",
            " dense (Dense)               (None, 100)               115300    \n",
            "                                                                 \n",
            " batch_normalization_5 (Bat  (None, 100)               400       \n",
            " chNormalization)                                                \n",
            "                                                                 \n",
            " dense_1 (Dense)             (None, 50)                5050      \n",
            "                                                                 \n",
            " batch_normalization_6 (Bat  (None, 50)                200       \n",
            " chNormalization)                                                \n",
            "                                                                 \n",
            " dense_2 (Dense)             (None, 10)                510       \n",
            "                                                                 \n",
            " batch_normalization_7 (Bat  (None, 10)                40        \n",
            " chNormalization)                                                \n",
            "                                                                 \n",
            " dense_3 (Dense)             (None, 1)                 11        \n",
            "                                                                 \n",
            "=================================================================\n",
            "Total params: 253075 (988.57 KB)\n",
            "Trainable params: 252647 (986.90 KB)\n",
            "Non-trainable params: 428 (1.67 KB)\n",
            "_________________________________________________________________\n"
          ]
        }
      ]
    },
    {
      "cell_type": "code",
      "source": [
        "history = model.fit_generator(batch_generator(X_train, y_train, 100, 1),\n",
        "                                  steps_per_epoch=300,\n",
        "                                  epochs=20,\n",
        "                                  validation_data=batch_generator(X_valid, y_valid, 100, 0),\n",
        "                                  validation_steps=200,\n",
        "                                  verbose=1,\n",
        "                                  shuffle = 1)"
      ],
      "metadata": {
        "id": "GGcyTBsygR8I",
        "outputId": "40c571a0-fe64-4525-93d1-64087ac4f289",
        "colab": {
          "base_uri": "https://localhost:8080/"
        }
      },
      "execution_count": 27,
      "outputs": [
        {
          "output_type": "stream",
          "name": "stderr",
          "text": [
            "<ipython-input-27-7404206d07fa>:1: UserWarning: `Model.fit_generator` is deprecated and will be removed in a future version. Please use `Model.fit`, which supports generators.\n",
            "  history = model.fit_generator(batch_generator(X_train, y_train, 100, 1),\n"
          ]
        },
        {
          "output_type": "stream",
          "name": "stdout",
          "text": [
            "Epoch 1/20\n",
            "300/300 [==============================] - 122s 398ms/step - loss: 0.2699 - val_loss: 0.1896\n",
            "Epoch 2/20\n",
            "300/300 [==============================] - 120s 403ms/step - loss: 0.2015 - val_loss: 0.1706\n",
            "Epoch 3/20\n",
            "300/300 [==============================] - 120s 401ms/step - loss: 0.1905 - val_loss: 0.1635\n",
            "Epoch 4/20\n",
            "300/300 [==============================] - 117s 392ms/step - loss: 0.1812 - val_loss: 0.1647\n",
            "Epoch 5/20\n",
            "300/300 [==============================] - 119s 397ms/step - loss: 0.1727 - val_loss: 0.1597\n",
            "Epoch 6/20\n",
            "300/300 [==============================] - 117s 391ms/step - loss: 0.1685 - val_loss: 0.1571\n",
            "Epoch 7/20\n",
            "300/300 [==============================] - 117s 393ms/step - loss: 0.1655 - val_loss: 0.1557\n",
            "Epoch 8/20\n",
            "300/300 [==============================] - 117s 391ms/step - loss: 0.1598 - val_loss: 0.1447\n",
            "Epoch 9/20\n",
            "300/300 [==============================] - 132s 440ms/step - loss: 0.1612 - val_loss: 0.1454\n",
            "Epoch 10/20\n",
            "300/300 [==============================] - 132s 440ms/step - loss: 0.1586 - val_loss: 0.1444\n",
            "Epoch 11/20\n",
            "300/300 [==============================] - 119s 398ms/step - loss: 0.1566 - val_loss: 0.1384\n",
            "Epoch 12/20\n",
            "300/300 [==============================] - 119s 396ms/step - loss: 0.1567 - val_loss: 0.1341\n",
            "Epoch 13/20\n",
            "300/300 [==============================] - 119s 399ms/step - loss: 0.1522 - val_loss: 0.1391\n",
            "Epoch 14/20\n",
            "300/300 [==============================] - 117s 391ms/step - loss: 0.1538 - val_loss: 0.1466\n",
            "Epoch 15/20\n",
            "300/300 [==============================] - 132s 442ms/step - loss: 0.1514 - val_loss: 0.1316\n",
            "Epoch 16/20\n",
            "300/300 [==============================] - 120s 402ms/step - loss: 0.1512 - val_loss: 0.1326\n",
            "Epoch 17/20\n",
            "300/300 [==============================] - 122s 407ms/step - loss: 0.1485 - val_loss: 0.1301\n",
            "Epoch 18/20\n",
            "300/300 [==============================] - 122s 407ms/step - loss: 0.1484 - val_loss: 0.1341\n",
            "Epoch 19/20\n",
            "300/300 [==============================] - 121s 405ms/step - loss: 0.1492 - val_loss: 0.1328\n",
            "Epoch 20/20\n",
            "300/300 [==============================] - 120s 402ms/step - loss: 0.1469 - val_loss: 0.1383\n"
          ]
        }
      ]
    },
    {
      "cell_type": "code",
      "source": [
        "plt.plot(history.history['loss'])\n",
        "plt.plot(history.history['val_loss'])\n",
        "plt.legend(['training', 'validation'])\n",
        "plt.title('Loss')\n",
        "plt.xlabel('Epoch')"
      ],
      "metadata": {
        "id": "HrFoo4UDlGmU",
        "outputId": "7d109560-7b25-4872-e2ef-d099de6beff2",
        "colab": {
          "base_uri": "https://localhost:8080/",
          "height": 489
        }
      },
      "execution_count": 28,
      "outputs": [
        {
          "output_type": "execute_result",
          "data": {
            "text/plain": [
              "Text(0.5, 0, 'Epoch')"
            ]
          },
          "metadata": {},
          "execution_count": 28
        },
        {
          "output_type": "display_data",
          "data": {
            "text/plain": [
              "<Figure size 640x480 with 1 Axes>"
            ],
            "image/png": "[encoded data removed]"
          },
          "metadata": {}
        }
      ]
    },
    {
      "cell_type": "code",
      "source": [
        "model.save('model11.h5')\n",
        "from google.colab import files\n",
        "files.download('model11.h5')"
      ],
      "metadata": {
        "id": "h7ekt8qclJAM",
        "outputId": "51f06d63-856b-4186-b8a8-eec81edd9d6d",
        "colab": {
          "base_uri": "https://localhost:8080/",
          "height": 72
        }
      },
      "execution_count": 29,
      "outputs": [
        {
          "output_type": "stream",
          "name": "stderr",
          "text": [
            "/usr/local/lib/python3.10/dist-packages/keras/src/engine/training.py:3103: UserWarning: You are saving your model as an HDF5 file via `model.save()`. This file format is considered legacy. We recommend using instead the native Keras format, e.g. `model.save('my_model.keras')`.\n",
            "  saving_api.save_model(\n"
          ]
        },
        {
          "output_type": "display_data",
          "data": {
            "text/plain": [
              "<IPython.core.display.Javascript object>"
            ],
            "application/javascript": [
              "\n",
              "    async function download(id, filename, size) {\n",
              "      if (!google.colab.kernel.accessAllowed) {\n",
              "        return;\n",
              "      }\n",
              "      const div = document.createElement('div');\n",
              "      const label = document.createElement('label');\n",
              "      label.textContent = `Downloading \"${filename}\": `;\n",
              "      div.appendChild(label);\n",
              "      const progress = document.createElement('progress');\n",
              "      progress.max = size;\n",
              "      div.appendChild(progress);\n",
              "      document.body.appendChild(div);\n",
              "\n",
              "      const buffers = [];\n",
              "      let downloaded = 0;\n",
              "\n",
              "      const channel = await google.colab.kernel.comms.open(id);\n",
              "      // Send a message to notify the kernel that we're ready.\n",
              "      channel.send({})\n",
              "\n",
              "      for await (const message of channel.messages) {\n",
              "        // Send a message to notify the kernel that we're ready.\n",
              "        channel.send({})\n",
              "        if (message.buffers) {\n",
              "          for (const buffer of message.buffers) {\n",
              "            buffers.push(buffer);\n",
              "            downloaded += buffer.byteLength;\n",
              "            progress.value = downloaded;\n",
              "          }\n",
              "        }\n",
              "      }\n",
              "      const blob = new Blob(buffers, {type: 'application/binary'});\n",
              "      const a = document.createElement('a');\n",
              "      a.href = window.URL.createObjectURL(blob);\n",
              "      a.download = filename;\n",
              "      div.appendChild(a);\n",
              "      a.click();\n",
              "      div.remove();\n",
              "    }\n",
              "  "
            ]
          },
          "metadata": {}
        },
        {
          "output_type": "display_data",
          "data": {
            "text/plain": [
              "<IPython.core.display.Javascript object>"
            ],
            "application/javascript": [
              "download(\"download_fd1224ce-a62d-4ed4-83b1-013f10a2fc73\", \"model11.h5\", 3239408)"
            ]
          },
          "metadata": {}
        }
      ]
    },
    {
      "cell_type": "code",
      "source": [
        "# Assuming history.history['loss'] and history.history['val_loss'] contain the loss values\n",
        "# Normalize the loss values\n",
        "max_loss = max(max(history.history['loss']), max(history.history['val_loss']))\n",
        "normalized_loss = [loss / max_loss for loss in history.history['loss']]\n",
        "normalized_val_loss = [val_loss / max_loss for val_loss in history.history['val_loss']]\n",
        "\n",
        "plt.plot(normalized_loss)\n",
        "plt.plot(normalized_val_loss)\n",
        "plt.legend(['training', 'validation'])\n",
        "plt.title('Normalized Loss')\n",
        "plt.xlabel('Epoch')\n",
        "plt.ylabel('Normalized Loss')\n",
        "plt.show()\n"
      ],
      "metadata": {
        "id": "NYNwgp4W9fR1",
        "outputId": "f7afeca5-cdae-4916-cf90-88a77dfb878f",
        "colab": {
          "base_uri": "https://localhost:8080/",
          "height": 472
        }
      },
      "execution_count": null,
      "outputs": [
        {
          "output_type": "display_data",
          "data": {
            "text/plain": [
              "<Figure size 640x480 with 1 Axes>"
            ],
            "image/png": "[encoded data removed]"
          },
          "metadata": {}
        }
      ]
    },
    {
      "cell_type": "code",
      "source": [],
      "metadata": {
        "id": "IcQ1eXM6nT1K"
      },
      "execution_count": null,
      "outputs": []
    }
  ],
  "metadata": {
    "kernelspec": {
      "display_name": "Python 3",
      "name": "python3"
    },
    "language_info": {
      "codemirror_mode": {
        "name": "ipython",
        "version": 3
      },
      "file_extension": ".py",
      "mimetype": "text/x-python",
      "name": "python",
      "nbconvert_exporter": "python",
      "pygments_lexer": "ipython3",
      "version": "3.10.12"
    },
    "colab": {
      "provenance": [],
      "gpuType": "T4"
    },
    "accelerator": "GPU"
  },
  "nbformat": 4,
  "nbformat_minor": 0
}