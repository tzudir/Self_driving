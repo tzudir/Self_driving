{
  "cells": [
    {
      "cell_type": "markdown",
      "metadata": {
        "id": "jgXmGFyGMn0z"
      },
      "source": [
        "## Self driving car model"
      ]
    },
    {
      "cell_type": "code",
      "execution_count": 1,
      "metadata": {
        "id": "DRddEl6dMn02",
        "outputId": "1a36c3d2-7124-4daa-f7e0-6ccb5640f50b",
        "colab": {
          "base_uri": "https://localhost:8080/"
        }
      },
      "outputs": [
        {
          "output_type": "stream",
          "name": "stdout",
          "text": [
            "Cloning into 'Self_driving'...\n",
            "remote: Enumerating objects: 33828, done.\u001b[K\n",
            "remote: Counting objects: 100% (9711/9711), done.\u001b[K\n",
            "remote: Compressing objects: 100% (9673/9673), done.\u001b[K\n",
            "remote: Total 33828 (delta 43), reused 9691 (delta 32), pack-reused 24117\u001b[K\n",
            "Receiving objects: 100% (33828/33828), 418.21 MiB | 21.33 MiB/s, done.\n",
            "Resolving deltas: 100% (46/46), done.\n",
            "Updating files: 100% (33728/33728), done.\n"
          ]
        }
      ],
      "source": [
        "!git clone https://github.com/tzudir/Self_driving"
      ]
    },
    {
      "cell_type": "code",
      "execution_count": 2,
      "metadata": {
        "id": "ndak6jJCMn05"
      },
      "outputs": [],
      "source": [
        "import os\n",
        "import pandas as pd\n",
        "import numpy as np\n",
        "import random\n",
        "import matplotlib.pyplot as plt\n",
        "import matplotlib.image as mpimg\n",
        "import tensorflow as keras\n",
        "import tensorflow as tf\n",
        "from keras.models import Sequential\n",
        "from keras.layers import Cropping2D\n",
        "from keras.layers import Conv2D, MaxPooling2D, Flatten, Dropout, Dense, Lambda, BatchNormalization\n",
        "from keras.optimizers import Adam\n",
        "from keras.callbacks import EarlyStopping\n",
        "from keras import regularizers\n",
        "from sklearn.utils import shuffle\n",
        "from sklearn.model_selection import train_test_split\n",
        "from imgaug import augmenters as iaa\n",
        "import cv2\n",
        "import ntpath\n",
        ""
      ]
    },
    {
      "cell_type": "code",
      "source": [
        "datadir = '/content/Self_driving/data'\n",
        "columns = ['center', 'left', 'right', 'steering', 'throttle', 'reverse', 'speed']\n",
        "data = pd.read_csv(os.path.join(datadir, 'driving_log.csv'), names = columns)\n",
        "pd.set_option('display.max_colwidth', -1)"
      ],
      "metadata": {
        "id": "SRbVpWVhQqyM",
        "outputId": "aa236255-9827-4bbe-9f53-700bc5adce2e",
        "colab": {
          "base_uri": "https://localhost:8080/"
        }
      },
      "execution_count": 3,
      "outputs": [
        {
          "output_type": "stream",
          "name": "stderr",
          "text": [
            "<ipython-input-3-04b2e98e549a>:4: FutureWarning: Passing a negative integer is deprecated in version 1.0 and will not be supported in future version. Instead, use None to not limit the column width.\n",
            "  pd.set_option('display.max_colwidth', -1)\n"
          ]
        }
      ]
    },
    {
      "cell_type": "code",
      "source": [
        "data.head()"
      ],
      "metadata": {
        "id": "A-Vp-tv-dRpJ",
        "outputId": "f71ce345-79b0-45a6-9687-f5d2866902d1",
        "colab": {
          "base_uri": "https://localhost:8080/",
          "height": 226
        }
      },
      "execution_count": 4,
      "outputs": [
        {
          "output_type": "execute_result",
          "data": {
            "text/plain": [
              "                                                                center  \\\n",
              "0  C:\\Users\\realj\\Documents\\Car\\IMG\\center_2024_01_25_22_48_25_466.jpg   \n",
              "1  C:\\Users\\realj\\Documents\\Car\\IMG\\center_2024_01_25_22_48_25_543.jpg   \n",
              "2  C:\\Users\\realj\\Documents\\Car\\IMG\\center_2024_01_25_22_48_25_622.jpg   \n",
              "3  C:\\Users\\realj\\Documents\\Car\\IMG\\center_2024_01_25_22_48_25_700.jpg   \n",
              "4  C:\\Users\\realj\\Documents\\Car\\IMG\\center_2024_01_25_22_48_25_769.jpg   \n",
              "\n",
              "                                                                left  \\\n",
              "0  C:\\Users\\realj\\Documents\\Car\\IMG\\left_2024_01_25_22_48_25_466.jpg   \n",
              "1  C:\\Users\\realj\\Documents\\Car\\IMG\\left_2024_01_25_22_48_25_543.jpg   \n",
              "2  C:\\Users\\realj\\Documents\\Car\\IMG\\left_2024_01_25_22_48_25_622.jpg   \n",
              "3  C:\\Users\\realj\\Documents\\Car\\IMG\\left_2024_01_25_22_48_25_700.jpg   \n",
              "4  C:\\Users\\realj\\Documents\\Car\\IMG\\left_2024_01_25_22_48_25_769.jpg   \n",
              "\n",
              "                                                                right  \\\n",
              "0  C:\\Users\\realj\\Documents\\Car\\IMG\\right_2024_01_25_22_48_25_466.jpg   \n",
              "1  C:\\Users\\realj\\Documents\\Car\\IMG\\right_2024_01_25_22_48_25_543.jpg   \n",
              "2  C:\\Users\\realj\\Documents\\Car\\IMG\\right_2024_01_25_22_48_25_622.jpg   \n",
              "3  C:\\Users\\realj\\Documents\\Car\\IMG\\right_2024_01_25_22_48_25_700.jpg   \n",
              "4  C:\\Users\\realj\\Documents\\Car\\IMG\\right_2024_01_25_22_48_25_769.jpg   \n",
              "\n",
              "   steering  throttle  reverse     speed  \n",
              "0  0.0       0.0       0.0      0.000091  \n",
              "1  0.0       0.0       0.0      0.000116  \n",
              "2  0.0       0.0       0.0      0.000132  \n",
              "3  0.0       0.0       0.0      0.000161  \n",
              "4  0.0       0.0       0.0      0.000227  "
            ],
            "text/html": [
              "\n",
              "  <div id=\"df-cdf7e246-f75b-4e9a-b7a4-66673f0d6c1a\" class=\"colab-df-container\">\n",
              "    <div>\n",
              "<style scoped>\n",
              "    .dataframe tbody tr th:only-of-type {\n",
              "        vertical-align: middle;\n",
              "    }\n",
              "\n",
              "    .dataframe tbody tr th {\n",
              "        vertical-align: top;\n",
              "    }\n",
              "\n",
              "    .dataframe thead th {\n",
              "        text-align: right;\n",
              "    }\n",
              "</style>\n",
              "<table border=\"1\" class=\"dataframe\">\n",
              "  <thead>\n",
              "    <tr style=\"text-align: right;\">\n",
              "      <th></th>\n",
              "      <th>center</th>\n",
              "      <th>left</th>\n",
              "      <th>right</th>\n",
              "      <th>steering</th>\n",
              "      <th>throttle</th>\n",
              "      <th>reverse</th>\n",
              "      <th>speed</th>\n",
              "    </tr>\n",
              "  </thead>\n",
              "  <tbody>\n",
              "    <tr>\n",
              "      <th>0</th>\n",
              "      <td>C:\\Users\\realj\\Documents\\Car\\IMG\\center_2024_01_25_22_48_25_466.jpg</td>\n",
              "      <td>C:\\Users\\realj\\Documents\\Car\\IMG\\left_2024_01_25_22_48_25_466.jpg</td>\n",
              "      <td>C:\\Users\\realj\\Documents\\Car\\IMG\\right_2024_01_25_22_48_25_466.jpg</td>\n",
              "      <td>0.0</td>\n",
              "      <td>0.0</td>\n",
              "      <td>0.0</td>\n",
              "      <td>0.000091</td>\n",
              "    </tr>\n",
              "    <tr>\n",
              "      <th>1</th>\n",
              "      <td>C:\\Users\\realj\\Documents\\Car\\IMG\\center_2024_01_25_22_48_25_543.jpg</td>\n",
              "      <td>C:\\Users\\realj\\Documents\\Car\\IMG\\left_2024_01_25_22_48_25_543.jpg</td>\n",
              "      <td>C:\\Users\\realj\\Documents\\Car\\IMG\\right_2024_01_25_22_48_25_543.jpg</td>\n",
              "      <td>0.0</td>\n",
              "      <td>0.0</td>\n",
              "      <td>0.0</td>\n",
              "      <td>0.000116</td>\n",
              "    </tr>\n",
              "    <tr>\n",
              "      <th>2</th>\n",
              "      <td>C:\\Users\\realj\\Documents\\Car\\IMG\\center_2024_01_25_22_48_25_622.jpg</td>\n",
              "      <td>C:\\Users\\realj\\Documents\\Car\\IMG\\left_2024_01_25_22_48_25_622.jpg</td>\n",
              "      <td>C:\\Users\\realj\\Documents\\Car\\IMG\\right_2024_01_25_22_48_25_622.jpg</td>\n",
              "      <td>0.0</td>\n",
              "      <td>0.0</td>\n",
              "      <td>0.0</td>\n",
              "      <td>0.000132</td>\n",
              "    </tr>\n",
              "    <tr>\n",
              "      <th>3</th>\n",
              "      <td>C:\\Users\\realj\\Documents\\Car\\IMG\\center_2024_01_25_22_48_25_700.jpg</td>\n",
              "      <td>C:\\Users\\realj\\Documents\\Car\\IMG\\left_2024_01_25_22_48_25_700.jpg</td>\n",
              "      <td>C:\\Users\\realj\\Documents\\Car\\IMG\\right_2024_01_25_22_48_25_700.jpg</td>\n",
              "      <td>0.0</td>\n",
              "      <td>0.0</td>\n",
              "      <td>0.0</td>\n",
              "      <td>0.000161</td>\n",
              "    </tr>\n",
              "    <tr>\n",
              "      <th>4</th>\n",
              "      <td>C:\\Users\\realj\\Documents\\Car\\IMG\\center_2024_01_25_22_48_25_769.jpg</td>\n",
              "      <td>C:\\Users\\realj\\Documents\\Car\\IMG\\left_2024_01_25_22_48_25_769.jpg</td>\n",
              "      <td>C:\\Users\\realj\\Documents\\Car\\IMG\\right_2024_01_25_22_48_25_769.jpg</td>\n",
              "      <td>0.0</td>\n",
              "      <td>0.0</td>\n",
              "      <td>0.0</td>\n",
              "      <td>0.000227</td>\n",
              "    </tr>\n",
              "  </tbody>\n",
              "</table>\n",
              "</div>\n",
              "    <div class=\"colab-df-buttons\">\n",
              "\n",
              "  <div class=\"colab-df-container\">\n",
              "    <button class=\"colab-df-convert\" onclick=\"convertToInteractive('df-cdf7e246-f75b-4e9a-b7a4-66673f0d6c1a')\"\n",
              "            title=\"Convert this dataframe to an interactive table.\"\n",
              "            style=\"display:none;\">\n",
              "\n",
              "  <svg xmlns=\"http://www.w3.org/2000/svg\" height=\"24px\" viewBox=\"0 -960 960 960\">\n",
              "    <path d=\"M120-120v-720h720v720H120Zm60-500h600v-160H180v160Zm220 220h160v-160H400v160Zm0 220h160v-160H400v160ZM180-400h160v-160H180v160Zm440 0h160v-160H620v160ZM180-180h160v-160H180v160Zm440 0h160v-160H620v160Z\"/>\n",
              "  </svg>\n",
              "    </button>\n",
              "\n",
              "  <style>\n",
              "    .colab-df-container {\n",
              "      display:flex;\n",
              "      gap: 12px;\n",
              "    }\n",
              "\n",
              "    .colab-df-convert {\n",
              "      background-color: #E8F0FE;\n",
              "      border: none;\n",
              "      border-radius: 50%;\n",
              "      cursor: pointer;\n",
              "      display: none;\n",
              "      fill: #1967D2;\n",
              "      height: 32px;\n",
              "      padding: 0 0 0 0;\n",
              "      width: 32px;\n",
              "    }\n",
              "\n",
              "    .colab-df-convert:hover {\n",
              "      background-color: #E2EBFA;\n",
              "      box-shadow: 0px 1px 2px rgba(60, 64, 67, 0.3), 0px 1px 3px 1px rgba(60, 64, 67, 0.15);\n",
              "      fill: #174EA6;\n",
              "    }\n",
              "\n",
              "    .colab-df-buttons div {\n",
              "      margin-bottom: 4px;\n",
              "    }\n",
              "\n",
              "    [theme=dark] .colab-df-convert {\n",
              "      background-color: #3B4455;\n",
              "      fill: #D2E3FC;\n",
              "    }\n",
              "\n",
              "    [theme=dark] .colab-df-convert:hover {\n",
              "      background-color: #434B5C;\n",
              "      box-shadow: 0px 1px 3px 1px rgba(0, 0, 0, 0.15);\n",
              "      filter: drop-shadow(0px 1px 2px rgba(0, 0, 0, 0.3));\n",
              "      fill: #FFFFFF;\n",
              "    }\n",
              "  </style>\n",
              "\n",
              "    <script>\n",
              "      const buttonEl =\n",
              "        document.querySelector('#df-cdf7e246-f75b-4e9a-b7a4-66673f0d6c1a button.colab-df-convert');\n",
              "      buttonEl.style.display =\n",
              "        google.colab.kernel.accessAllowed ? 'block' : 'none';\n",
              "\n",
              "      async function convertToInteractive(key) {\n",
              "        const element = document.querySelector('#df-cdf7e246-f75b-4e9a-b7a4-66673f0d6c1a');\n",
              "        const dataTable =\n",
              "          await google.colab.kernel.invokeFunction('convertToInteractive',\n",
              "                                                    [key], {});\n",
              "        if (!dataTable) return;\n",
              "\n",
              "        const docLinkHtml = 'Like what you see? Visit the ' +\n",
              "          '<a target=\"_blank\" href=https://colab.research.google.com/notebooks/data_table.ipynb>data table notebook</a>'\n",
              "          + ' to learn more about interactive tables.';\n",
              "        element.innerHTML = '';\n",
              "        dataTable['output_type'] = 'display_data';\n",
              "        await google.colab.output.renderOutput(dataTable, element);\n",
              "        const docLink = document.createElement('div');\n",
              "        docLink.innerHTML = docLinkHtml;\n",
              "        element.appendChild(docLink);\n",
              "      }\n",
              "    </script>\n",
              "  </div>\n",
              "\n",
              "\n",
              "<div id=\"df-bc12020d-1eba-41a2-83ec-fe325105f846\">\n",
              "  <button class=\"colab-df-quickchart\" onclick=\"quickchart('df-bc12020d-1eba-41a2-83ec-fe325105f846')\"\n",
              "            title=\"Suggest charts\"\n",
              "            style=\"display:none;\">\n",
              "\n",
              "<svg xmlns=\"http://www.w3.org/2000/svg\" height=\"24px\"viewBox=\"0 0 24 24\"\n",
              "     width=\"24px\">\n",
              "    <g>\n",
              "        <path d=\"M19 3H5c-1.1 0-2 .9-2 2v14c0 1.1.9 2 2 2h14c1.1 0 2-.9 2-2V5c0-1.1-.9-2-2-2zM9 17H7v-7h2v7zm4 0h-2V7h2v10zm4 0h-2v-4h2v4z\"/>\n",
              "    </g>\n",
              "</svg>\n",
              "  </button>\n",
              "\n",
              "<style>\n",
              "  .colab-df-quickchart {\n",
              "      --bg-color: #E8F0FE;\n",
              "      --fill-color: #1967D2;\n",
              "      --hover-bg-color: #E2EBFA;\n",
              "      --hover-fill-color: #174EA6;\n",
              "      --disabled-fill-color: #AAA;\n",
              "      --disabled-bg-color: #DDD;\n",
              "  }\n",
              "\n",
              "  [theme=dark] .colab-df-quickchart {\n",
              "      --bg-color: #3B4455;\n",
              "      --fill-color: #D2E3FC;\n",
              "      --hover-bg-color: #434B5C;\n",
              "      --hover-fill-color: #FFFFFF;\n",
              "      --disabled-bg-color: #3B4455;\n",
              "      --disabled-fill-color: #666;\n",
              "  }\n",
              "\n",
              "  .colab-df-quickchart {\n",
              "    background-color: var(--bg-color);\n",
              "    border: none;\n",
              "    border-radius: 50%;\n",
              "    cursor: pointer;\n",
              "    display: none;\n",
              "    fill: var(--fill-color);\n",
              "    height: 32px;\n",
              "    padding: 0;\n",
              "    width: 32px;\n",
              "  }\n",
              "\n",
              "  .colab-df-quickchart:hover {\n",
              "    background-color: var(--hover-bg-color);\n",
              "    box-shadow: 0 1px 2px rgba(60, 64, 67, 0.3), 0 1px 3px 1px rgba(60, 64, 67, 0.15);\n",
              "    fill: var(--button-hover-fill-color);\n",
              "  }\n",
              "\n",
              "  .colab-df-quickchart-complete:disabled,\n",
              "  .colab-df-quickchart-complete:disabled:hover {\n",
              "    background-color: var(--disabled-bg-color);\n",
              "    fill: var(--disabled-fill-color);\n",
              "    box-shadow: none;\n",
              "  }\n",
              "\n",
              "  .colab-df-spinner {\n",
              "    border: 2px solid var(--fill-color);\n",
              "    border-color: transparent;\n",
              "    border-bottom-color: var(--fill-color);\n",
              "    animation:\n",
              "      spin 1s steps(1) infinite;\n",
              "  }\n",
              "\n",
              "  @keyframes spin {\n",
              "    0% {\n",
              "      border-color: transparent;\n",
              "      border-bottom-color: var(--fill-color);\n",
              "      border-left-color: var(--fill-color);\n",
              "    }\n",
              "    20% {\n",
              "      border-color: transparent;\n",
              "      border-left-color: var(--fill-color);\n",
              "      border-top-color: var(--fill-color);\n",
              "    }\n",
              "    30% {\n",
              "      border-color: transparent;\n",
              "      border-left-color: var(--fill-color);\n",
              "      border-top-color: var(--fill-color);\n",
              "      border-right-color: var(--fill-color);\n",
              "    }\n",
              "    40% {\n",
              "      border-color: transparent;\n",
              "      border-right-color: var(--fill-color);\n",
              "      border-top-color: var(--fill-color);\n",
              "    }\n",
              "    60% {\n",
              "      border-color: transparent;\n",
              "      border-right-color: var(--fill-color);\n",
              "    }\n",
              "    80% {\n",
              "      border-color: transparent;\n",
              "      border-right-color: var(--fill-color);\n",
              "      border-bottom-color: var(--fill-color);\n",
              "    }\n",
              "    90% {\n",
              "      border-color: transparent;\n",
              "      border-bottom-color: var(--fill-color);\n",
              "    }\n",
              "  }\n",
              "</style>\n",
              "\n",
              "  <script>\n",
              "    async function quickchart(key) {\n",
              "      const quickchartButtonEl =\n",
              "        document.querySelector('#' + key + ' button');\n",
              "      quickchartButtonEl.disabled = true;  // To prevent multiple clicks.\n",
              "      quickchartButtonEl.classList.add('colab-df-spinner');\n",
              "      try {\n",
              "        const charts = await google.colab.kernel.invokeFunction(\n",
              "            'suggestCharts', [key], {});\n",
              "      } catch (error) {\n",
              "        console.error('Error during call to suggestCharts:', error);\n",
              "      }\n",
              "      quickchartButtonEl.classList.remove('colab-df-spinner');\n",
              "      quickchartButtonEl.classList.add('colab-df-quickchart-complete');\n",
              "    }\n",
              "    (() => {\n",
              "      let quickchartButtonEl =\n",
              "        document.querySelector('#df-bc12020d-1eba-41a2-83ec-fe325105f846 button');\n",
              "      quickchartButtonEl.style.display =\n",
              "        google.colab.kernel.accessAllowed ? 'block' : 'none';\n",
              "    })();\n",
              "  </script>\n",
              "</div>\n",
              "\n",
              "    </div>\n",
              "  </div>\n"
            ],
            "application/vnd.google.colaboratory.intrinsic+json": {
              "type": "dataframe",
              "variable_name": "data",
              "summary": "{\n  \"name\": \"data\",\n  \"rows\": 3205,\n  \"fields\": [\n    {\n      \"column\": \"center\",\n      \"properties\": {\n        \"dtype\": \"string\",\n        \"num_unique_values\": 3205,\n        \"samples\": [\n          \"C:\\\\Users\\\\realj\\\\Documents\\\\Car\\\\IMG\\\\center_2024_01_25_22_49_12_077.jpg\",\n          \"C:\\\\Users\\\\realj\\\\Documents\\\\Car\\\\IMG\\\\center_2024_02_02_09_52_57_672.jpg\",\n          \"C:\\\\Users\\\\realj\\\\Documents\\\\Car\\\\IMG\\\\center_2024_02_02_09_52_14_721.jpg\"\n        ],\n        \"semantic_type\": \"\",\n        \"description\": \"\"\n      }\n    },\n    {\n      \"column\": \"left\",\n      \"properties\": {\n        \"dtype\": \"string\",\n        \"num_unique_values\": 3205,\n        \"samples\": [\n          \"C:\\\\Users\\\\realj\\\\Documents\\\\Car\\\\IMG\\\\left_2024_01_25_22_49_12_077.jpg\",\n          \"C:\\\\Users\\\\realj\\\\Documents\\\\Car\\\\IMG\\\\left_2024_02_02_09_52_57_672.jpg\",\n          \"C:\\\\Users\\\\realj\\\\Documents\\\\Car\\\\IMG\\\\left_2024_02_02_09_52_14_721.jpg\"\n        ],\n        \"semantic_type\": \"\",\n        \"description\": \"\"\n      }\n    },\n    {\n      \"column\": \"right\",\n      \"properties\": {\n        \"dtype\": \"string\",\n        \"num_unique_values\": 3205,\n        \"samples\": [\n          \"C:\\\\Users\\\\realj\\\\Documents\\\\Car\\\\IMG\\\\right_2024_01_25_22_49_12_077.jpg\",\n          \"C:\\\\Users\\\\realj\\\\Documents\\\\Car\\\\IMG\\\\right_2024_02_02_09_52_57_672.jpg\",\n          \"C:\\\\Users\\\\realj\\\\Documents\\\\Car\\\\IMG\\\\right_2024_02_02_09_52_14_721.jpg\"\n        ],\n        \"semantic_type\": \"\",\n        \"description\": \"\"\n      }\n    },\n    {\n      \"column\": \"steering\",\n      \"properties\": {\n        \"dtype\": \"number\",\n        \"std\": 0.4270405529265044,\n        \"min\": -1.0,\n        \"max\": 1.0,\n        \"num_unique_values\": 41,\n        \"samples\": [\n          0.7,\n          -0.3,\n          0.6500001\n        ],\n        \"semantic_type\": \"\",\n        \"description\": \"\"\n      }\n    },\n    {\n      \"column\": \"throttle\",\n      \"properties\": {\n        \"dtype\": \"number\",\n        \"std\": 0.412460792758581,\n        \"min\": 0.0,\n        \"max\": 1.0,\n        \"num_unique_values\": 342,\n        \"samples\": [\n          0.4950236,\n          0.3545332,\n          0.7561884\n        ],\n        \"semantic_type\": \"\",\n        \"description\": \"\"\n      }\n    },\n    {\n      \"column\": \"reverse\",\n      \"properties\": {\n        \"dtype\": \"number\",\n        \"std\": 0.18377487838950307,\n        \"min\": 0.0,\n        \"max\": 1.0,\n        \"num_unique_values\": 39,\n        \"samples\": [\n          0.8290653,\n          0.4332538,\n          0.8245652\n        ],\n        \"semantic_type\": \"\",\n        \"description\": \"\"\n      }\n    },\n    {\n      \"column\": \"speed\",\n      \"properties\": {\n        \"dtype\": \"number\",\n        \"std\": 10.07209603670786,\n        \"min\": 1.291497e-06,\n        \"max\": 30.72889,\n        \"num_unique_values\": 2797,\n        \"samples\": [\n          30.07677,\n          30.03604,\n          30.18555\n        ],\n        \"semantic_type\": \"\",\n        \"description\": \"\"\n      }\n    }\n  ]\n}"
            }
          },
          "metadata": {},
          "execution_count": 4
        }
      ]
    },
    {
      "cell_type": "code",
      "source": [
        "def path_leaf(path):\n",
        "  head, tail = ntpath.split(path)\n",
        "  return tail\n",
        "data['center'] = data['center'].apply(path_leaf)\n",
        "data['left'] = data['left'].apply(path_leaf)\n",
        "data['right'] = data['right'].apply(path_leaf)"
      ],
      "metadata": {
        "id": "eGhS4atldTzS"
      },
      "execution_count": 5,
      "outputs": []
    },
    {
      "cell_type": "code",
      "source": [
        "num_bins = 25\n",
        "samples_per_bin = 400\n",
        "hist, bins = np.histogram(data['steering'], num_bins)\n",
        "center = (bins[:-1]+ bins[1:]) * 0.5\n",
        "plt.bar(center,hist, width=0.05)\n",
        "plt.plot((np.min(data['steering']), np.max(data['steering'])),(samples_per_bin, samples_per_bin))"
      ],
      "metadata": {
        "id": "14L-PMwkdYaa",
        "outputId": "80af0b4f-671e-4542-faf9-d07fdcb87843",
        "colab": {
          "base_uri": "https://localhost:8080/",
          "height": 447
        }
      },
      "execution_count": 6,
      "outputs": [
        {
          "output_type": "execute_result",
          "data": {
            "text/plain": [
              "[<matplotlib.lines.Line2D at 0x7caec143f850>]"
            ]
          },
          "metadata": {},
          "execution_count": 6
        },
        {
          "output_type": "display_data",
          "data": {
            "text/plain": [
              "<Figure size 640x480 with 1 Axes>"
            ],
            "image/png": "[encoded data removed]"
          },
          "metadata": {}
        }
      ]
    },
    {
      "cell_type": "code",
      "source": [
        "remove_list = []\n",
        "for j in range(num_bins):\n",
        "  list_ = []\n",
        "  for i in range(len(data['steering'])):\n",
        "    if data['steering'][i] >= bins[j] and data['steering'][i] <= bins[j+1]:\n",
        "      list_.append(i)\n",
        "  list_ = shuffle(list_)\n",
        "  list_ = list_[samples_per_bin:]\n",
        "  remove_list.extend(list_)\n",
        "\n",
        "print('removed: ', len(remove_list))\n",
        "data.drop(data.index[remove_list], inplace=True)\n",
        "print('remaining: ', len(data))"
      ],
      "metadata": {
        "id": "uyjxWo0xdb6e",
        "outputId": "8a175195-de9c-42ea-9170-eb2bbbab846a",
        "colab": {
          "base_uri": "https://localhost:8080/"
        }
      },
      "execution_count": 7,
      "outputs": [
        {
          "output_type": "stream",
          "name": "stdout",
          "text": [
            "removed:  1538\n",
            "remaining:  1667\n"
          ]
        }
      ]
    },
    {
      "cell_type": "code",
      "source": [
        "def load_img_steering(datadir, df):\n",
        "  image_path = []\n",
        "  steering = []\n",
        "  for i in range(len(data)):\n",
        "    indexed_data = data.iloc[i]\n",
        "    center, left, right = indexed_data[0], indexed_data[1], indexed_data[2]\n",
        "    image_path.append(os.path.join(datadir, center.strip()))\n",
        "    steering.append(float(indexed_data[3]))\n",
        "    image_path.append(os.path.join(datadir,left.strip()))\n",
        "    steering.append(float(indexed_data[3])+0.15)\n",
        "    image_path.append(os.path.join(datadir,right.strip()))\n",
        "    steering.append(float(indexed_data[3])-0.15)\n",
        "  image_paths = np.asarray(image_path)\n",
        "  steerings = np.asarray(steering)\n",
        "  return image_paths, steerings"
      ],
      "metadata": {
        "id": "crfq3EZdeh29"
      },
      "execution_count": 8,
      "outputs": []
    },
    {
      "cell_type": "code",
      "source": [
        "image_paths, steerings = load_img_steering(datadir + '/IMG', data)"
      ],
      "metadata": {
        "id": "z6PonMV3entI"
      },
      "execution_count": 9,
      "outputs": []
    },
    {
      "cell_type": "code",
      "source": [
        "image_paths"
      ],
      "metadata": {
        "id": "7NZ9nowVeq_s",
        "outputId": "b948bead-2744-4d7d-cb8e-6162e450237d",
        "colab": {
          "base_uri": "https://localhost:8080/"
        }
      },
      "execution_count": 10,
      "outputs": [
        {
          "output_type": "execute_result",
          "data": {
            "text/plain": [
              "array(['/content/Self_driving/data/IMG/center_2024_01_25_22_48_25_700.jpg',\n",
              "       '/content/Self_driving/data/IMG/left_2024_01_25_22_48_25_700.jpg',\n",
              "       '/content/Self_driving/data/IMG/right_2024_01_25_22_48_25_700.jpg',\n",
              "       ...,\n",
              "       '/content/Self_driving/data/IMG/center_2024_02_02_09_53_08_394.jpg',\n",
              "       '/content/Self_driving/data/IMG/left_2024_02_02_09_53_08_394.jpg',\n",
              "       '/content/Self_driving/data/IMG/right_2024_02_02_09_53_08_394.jpg'],\n",
              "      dtype='<U65')"
            ]
          },
          "metadata": {},
          "execution_count": 10
        }
      ]
    },
    {
      "cell_type": "code",
      "source": [
        "X_train, X_valid, y_train, y_valid = train_test_split(image_paths, steerings, test_size=0.2, random_state = 6)\n",
        "print('Training Samples: {}\\nValid Samples: {}'.format(len(X_train), len(X_valid)))"
      ],
      "metadata": {
        "id": "7RNJTAHbeuFS",
        "outputId": "c630d1a3-af34-483b-faf7-4ca4a739ed04",
        "colab": {
          "base_uri": "https://localhost:8080/"
        }
      },
      "execution_count": 11,
      "outputs": [
        {
          "output_type": "stream",
          "name": "stdout",
          "text": [
            "Training Samples: 4000\n",
            "Valid Samples: 1001\n"
          ]
        }
      ]
    },
    {
      "cell_type": "code",
      "source": [
        "def zoom(image):\n",
        "  zoom = iaa.Affine(scale=(1, 1.3))\n",
        "  image = zoom.augment_image(image)\n",
        "  return image\n",
        "\n",
        "def pan(image):\n",
        "  pan = iaa.Affine(translate_percent= {\"x\" : (-0.1, 0.1), \"y\": (-0.1, 0.1)})\n",
        "  image = pan.augment_image(image)\n",
        "  return image\n",
        "\n",
        "def img_random_brightness(image):\n",
        "    brightness = iaa.Multiply((0.2, 1.2))\n",
        "    image = brightness.augment_image(image)\n",
        "    return image\n",
        "\n",
        "def img_random_flip(image, steering_angle):\n",
        "    image = cv2.flip(image,1)\n",
        "    steering_angle = -steering_angle\n",
        "    return image, steering_angle\n"
      ],
      "metadata": {
        "id": "ysHNCHn7exPN"
      },
      "execution_count": 12,
      "outputs": []
    },
    {
      "cell_type": "code",
      "source": [
        "def random_augment(image, steering_angle):\n",
        "    image = mpimg.imread(image)\n",
        "    if np.random.rand() < 0.5:\n",
        "      image = pan(image)\n",
        "    if np.random.rand() < 0.5:\n",
        "      image = zoom(image)\n",
        "    if np.random.rand() < 0.5:\n",
        "      image = img_random_brightness(image)\n",
        "    if np.random.rand() < 0.5:\n",
        "      image, steering_angle = img_random_flip(image, steering_angle)\n",
        "\n",
        "    return image, steering_angle"
      ],
      "metadata": {
        "id": "CkjQDs8Je08o"
      },
      "execution_count": 13,
      "outputs": []
    },
    {
      "cell_type": "code",
      "source": [
        "def img_preprocess(img):\n",
        "  img = img[60:135,:,:]\n",
        "  img = cv2.cvtColor(img, cv2.COLOR_RGB2YUV)\n",
        "  img = cv2.GaussianBlur(img, (3, 3), 0)\n",
        "  img = cv2.resize(img, (200, 66))\n",
        "  img = img/255\n",
        "  return img"
      ],
      "metadata": {
        "id": "G-A472O-e3f0"
      },
      "execution_count": 14,
      "outputs": []
    },
    {
      "cell_type": "code",
      "source": [
        "def batch_generator(image_paths, steering_ang, batch_size, istraining):\n",
        "\n",
        "  while True:\n",
        "    batch_img = []\n",
        "    batch_steering = []\n",
        "\n",
        "    for i in range(batch_size):\n",
        "      random_index = random.randint(0, len(image_paths) - 1)\n",
        "\n",
        "      if istraining:\n",
        "        im, steering = random_augment(image_paths[random_index], steering_ang[random_index])\n",
        "\n",
        "      else:\n",
        "        im = mpimg.imread(image_paths[random_index])\n",
        "        steering = steering_ang[random_index]\n",
        "\n",
        "      im = img_preprocess(im)\n",
        "      batch_img.append(im)\n",
        "      batch_steering.append(steering)\n",
        "    yield (np.asarray(batch_img), np.asarray(batch_steering))"
      ],
      "metadata": {
        "id": "f0RTHoYUe5t-"
      },
      "execution_count": 15,
      "outputs": []
    },
    {
      "cell_type": "code",
      "source": [
        "def keras_model():\n",
        "  model = Sequential()\n",
        "  model.add(Conv2D(24, (5, 5), strides=(2, 2), input_shape=(66, 200, 3), activation='elu'))\n",
        "  model.add(BatchNormalization())\n",
        "  model.add(Conv2D(36, (5, 5), strides=(2, 2), activation='elu'))\n",
        "  model.add(BatchNormalization())\n",
        "  model.add(Conv2D(48, (5, 5), strides=(2, 2), activation='elu'))\n",
        "  model.add(BatchNormalization())\n",
        "  model.add(Conv2D(64, (5, 5), activation='elu'))\n",
        "  # Add a skip connection here (consider from after the second convolutional layer)\n",
        "\n",
        "  model.add(Flatten())\n",
        "  model.add(Dense(100, activation='elu'))\n",
        "  model.add(Dropout(0.2))  # Add dropout\n",
        "  model.add(Dense(50, activation='elu'))\n",
        "  model.add(Dropout(0.5))  # Add dropout\n",
        "  model.add(Dense(10, activation='elu'))\n",
        "  model.add(Dense(1))\n",
        "\n",
        "  optimizer = tf.keras.optimizers.RMSprop(learning_rate=0.001)  # Experiment with optimizer\n",
        "  model.compile(loss='mse', optimizer=optimizer)\n",
        "  return model\n",
        "\n",
        "model = keras_model()\n",
        "model.summary()"
      ],
      "metadata": {
        "id": "8am69DFle8Ce",
        "outputId": "52fdcb21-b1a9-41fb-810c-f25a92b4b142",
        "colab": {
          "base_uri": "https://localhost:8080/"
        }
      },
      "execution_count": 20,
      "outputs": [
        {
          "output_type": "stream",
          "name": "stdout",
          "text": [
            "Model: \"sequential_1\"\n",
            "_________________________________________________________________\n",
            " Layer (type)                Output Shape              Param #   \n",
            "=================================================================\n",
            " conv2d_4 (Conv2D)           (None, 31, 98, 24)        1824      \n",
            "                                                                 \n",
            " batch_normalization_4 (Bat  (None, 31, 98, 24)        96        \n",
            " chNormalization)                                                \n",
            "                                                                 \n",
            " conv2d_5 (Conv2D)           (None, 14, 47, 36)        21636     \n",
            "                                                                 \n",
            " batch_normalization_5 (Bat  (None, 14, 47, 36)        144       \n",
            " chNormalization)                                                \n",
            "                                                                 \n",
            " conv2d_6 (Conv2D)           (None, 5, 22, 48)         43248     \n",
            "                                                                 \n",
            " batch_normalization_6 (Bat  (None, 5, 22, 48)         192       \n",
            " chNormalization)                                                \n",
            "                                                                 \n",
            " conv2d_7 (Conv2D)           (None, 1, 18, 64)         76864     \n",
            "                                                                 \n",
            " flatten_1 (Flatten)         (None, 1152)              0         \n",
            "                                                                 \n",
            " dense_4 (Dense)             (None, 100)               115300    \n",
            "                                                                 \n",
            " dropout_1 (Dropout)         (None, 100)               0         \n",
            "                                                                 \n",
            " dense_5 (Dense)             (None, 50)                5050      \n",
            "                                                                 \n",
            " dropout_2 (Dropout)         (None, 50)                0         \n",
            "                                                                 \n",
            " dense_6 (Dense)             (None, 10)                510       \n",
            "                                                                 \n",
            " dense_7 (Dense)             (None, 1)                 11        \n",
            "                                                                 \n",
            "=================================================================\n",
            "Total params: 264875 (1.01 MB)\n",
            "Trainable params: 264659 (1.01 MB)\n",
            "Non-trainable params: 216 (864.00 Byte)\n",
            "_________________________________________________________________\n"
          ]
        }
      ]
    },
    {
      "cell_type": "code",
      "source": [
        "history = model.fit_generator(batch_generator(X_train, y_train, 100, 1),\n",
        "                                  steps_per_epoch=300,\n",
        "                                  epochs=6,\n",
        "                                  validation_data=batch_generator(X_valid, y_valid, 100, 0),\n",
        "                                  validation_steps=200,\n",
        "                                  verbose=1,\n",
        "                                  shuffle = 1)"
      ],
      "metadata": {
        "id": "GGcyTBsygR8I",
        "outputId": "d05a15e0-9ad1-4280-cd15-b67756de6518",
        "colab": {
          "base_uri": "https://localhost:8080/"
        }
      },
      "execution_count": 21,
      "outputs": [
        {
          "output_type": "stream",
          "name": "stderr",
          "text": [
            "<ipython-input-21-d82df037bffe>:1: UserWarning: `Model.fit_generator` is deprecated and will be removed in a future version. Please use `Model.fit`, which supports generators.\n",
            "  history = model.fit_generator(batch_generator(X_train, y_train, 100, 1),\n"
          ]
        },
        {
          "output_type": "stream",
          "name": "stdout",
          "text": [
            "Epoch 1/6\n",
            "300/300 [==============================] - 112s 363ms/step - loss: 0.6849 - val_loss: 0.4682\n",
            "Epoch 2/6\n",
            "300/300 [==============================] - 108s 361ms/step - loss: 0.2661 - val_loss: 0.3071\n",
            "Epoch 3/6\n",
            "300/300 [==============================] - 122s 408ms/step - loss: 0.2309 - val_loss: 0.3300\n",
            "Epoch 4/6\n",
            "300/300 [==============================] - 121s 404ms/step - loss: 0.2168 - val_loss: 0.2747\n",
            "Epoch 5/6\n",
            "300/300 [==============================] - 109s 366ms/step - loss: 0.1970 - val_loss: 0.2468\n",
            "Epoch 6/6\n",
            "300/300 [==============================] - 115s 384ms/step - loss: 0.1870 - val_loss: 0.1834\n"
          ]
        }
      ]
    },
    {
      "cell_type": "code",
      "source": [
        "# def nvidia_model():\n",
        "#   model = Sequential()\n",
        "#   model.add(Conv2D(24, (5, 5), strides=(2, 2), input_shape=(66, 200, 3), activation='elu'))\n",
        "#   model.add(Conv2D(36, (5, 5), strides=(2, 2), activation='elu'))\n",
        "#   model.add(Conv2D(48, (5, 5), strides=(2, 2), activation='elu'))\n",
        "#   model.add(Conv2D(64, (5, 5), activation='elu'))\n",
        "\n",
        "\n",
        "#   model.add(Flatten())\n",
        "#   model.add(Dense(100, activation = 'elu'))\n",
        "#   model.add(Dense(50, activation = 'elu'))\n",
        "#   model.add(Dense(10, activation = 'elu'))\n",
        "#   model.add(Dense(1))\n",
        "\n",
        "#   optimizer = tf.keras.optimizers.Adam(learning_rate=1e-3)\n",
        "#   model.compile(loss='mse', optimizer=optimizer)\n",
        "#   return model"
      ],
      "metadata": {
        "id": "52fbYYbOiSze"
      },
      "execution_count": 18,
      "outputs": []
    },
    {
      "cell_type": "code",
      "source": [
        "plt.plot(history.history['loss'])\n",
        "plt.plot(history.history['val_loss'])\n",
        "plt.legend(['training', 'validation'])\n",
        "plt.title('Loss')\n",
        "plt.xlabel('Epoch')"
      ],
      "metadata": {
        "id": "HrFoo4UDlGmU",
        "outputId": "13857d3e-e823-46eb-a812-48b4039d771a",
        "colab": {
          "base_uri": "https://localhost:8080/",
          "height": 489
        }
      },
      "execution_count": 22,
      "outputs": [
        {
          "output_type": "execute_result",
          "data": {
            "text/plain": [
              "Text(0.5, 0, 'Epoch')"
            ]
          },
          "metadata": {},
          "execution_count": 22
        },
        {
          "output_type": "display_data",
          "data": {
            "text/plain": [
              "<Figure size 640x480 with 1 Axes>"
            ],
            "image/png": "[encoded data removed]"
          },
          "metadata": {}
        }
      ]
    },
    {
      "cell_type": "code",
      "source": [],
      "metadata": {
        "id": "h7ekt8qclJAM"
      },
      "execution_count": null,
      "outputs": []
    }
  ],
  "metadata": {
    "kernelspec": {
      "display_name": "Python 3",
      "name": "python3"
    },
    "language_info": {
      "codemirror_mode": {
        "name": "ipython",
        "version": 3
      },
      "file_extension": ".py",
      "mimetype": "text/x-python",
      "name": "python",
      "nbconvert_exporter": "python",
      "pygments_lexer": "ipython3",
      "version": "3.10.12"
    },
    "colab": {
      "provenance": [],
      "gpuType": "T4"
    },
    "accelerator": "GPU"
  },
  "nbformat": 4,
  "nbformat_minor": 0
}