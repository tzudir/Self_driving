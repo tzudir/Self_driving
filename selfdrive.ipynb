{
  "cells": [
    {
      "cell_type": "markdown",
      "metadata": {
        "id": "jgXmGFyGMn0z"
      },
      "source": [
        "## Self driving car model"
      ]
    },
    {
      "cell_type": "code",
      "execution_count": null,
      "metadata": {
        "id": "DRddEl6dMn02"
      },
      "outputs": [],
      "source": [
        "import pandas as pd\n",
        "import numpy as np\n",
        "import matplotlib.pyplot as plt\n",
        "import matplotlib.image as mpimg\n",
        "import random\n",
        "import cv2"
      ]
    },
    {
      "cell_type": "code",
      "execution_count": null,
      "metadata": {
        "id": "ndak6jJCMn05"
      },
      "outputs": [],
      "source": [
        "### Dataset\n",
        "use_original = False\n",
        "import os\n",
        "\n",
        "def get_dataset(use_original=True):\n",
        "    if use_original:\n",
        "        csv_filepath = './data/driving_log.csv'\n",
        "        img_filepath = './data/IMG/'\n",
        "    else:\n",
        "        csv_filepath = './data_custom/driving_log.csv'\n",
        "        img_filepath = './data_custom/IMG/'\n",
        "\n",
        "    df = pd.read_csv(csv_filepath, header=None)\n",
        "    lines = df.values.tolist()\n",
        "\n",
        "    images_center = []\n",
        "    measurements_center = []\n",
        "    images_lr = []\n",
        "    measurements_lr = []\n",
        "\n",
        "    for line in lines:\n",
        "        source_path = line[0]\n",
        "        filename = os.path.basename(source_path)\n",
        "        current_path = os.path.join(img_filepath, filename)\n",
        "        image = cv2.imread(current_path)\n",
        "        images_center.append(image)\n",
        "        measurement = float(line[3])\n",
        "        measurements_center.append(measurement)\n",
        "\n",
        "        for source_path in line[1:3]:\n",
        "            filename = os.path.basename(source_path)\n",
        "            current_path = os.path.join(img_filepath, filename)\n",
        "            measurement = float(line[3])\n",
        "\n",
        "            if measurement != 0:\n",
        "                if source_path == line[1]:\n",
        "                    measurement += 0.23\n",
        "                else:\n",
        "                    measurement -= 0.23\n",
        "\n",
        "                image = cv2.imread(current_path)\n",
        "                images_lr.append(image)\n",
        "                measurements_lr.append(measurement)\n",
        "\n",
        "    measurements_center = np.asarray(measurements_center)\n",
        "    images_center = np.asarray(images_center)\n",
        "    measurements_lr = np.asarray(measurements_lr)\n",
        "    images_lr = np.asarray(images_lr)\n",
        "\n",
        "    images = np.concatenate([images_center, images_lr], axis=0)\n",
        "    measurements = np.concatenate([measurements_center, measurements_lr], axis=0)\n",
        "\n",
        "    if use_original:\n",
        "        print('Udacity data is loaded')\n",
        "    else:\n",
        "        print('Custom data is loaded')\n",
        "\n",
        "    print('Dataset size: %d' % len(measurements))\n",
        "\n",
        "    return images, measurements\n",
        "\n"
      ]
    },
    {
      "cell_type": "code",
      "source": [],
      "metadata": {
        "id": "SRbVpWVhQqyM"
      },
      "execution_count": null,
      "outputs": []
    }
  ],
  "metadata": {
    "kernelspec": {
      "display_name": "base",
      "language": "python",
      "name": "python3"
    },
    "language_info": {
      "codemirror_mode": {
        "name": "ipython",
        "version": 3
      },
      "file_extension": ".py",
      "mimetype": "text/x-python",
      "name": "python",
      "nbconvert_exporter": "python",
      "pygments_lexer": "ipython3",
      "version": "3.10.12"
    },
    "colab": {
      "provenance": []
    }
  },
  "nbformat": 4,
  "nbformat_minor": 0
}