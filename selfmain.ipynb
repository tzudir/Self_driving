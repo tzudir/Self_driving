{
  "cells": [
    {
      "cell_type": "markdown",
      "metadata": {
        "id": "mgBhnczTN2Br"
      },
      "source": [
        "### Model"
      ]
    },
    {
      "cell_type": "code",
      "execution_count": 27,
      "metadata": {
        "id": "sTWNK7N1N2By"
      },
      "outputs": [],
      "source": [
        "import os\n",
        "import pandas as pd\n",
        "import numpy as np\n",
        "import random\n",
        "import matplotlib.pyplot as plt\n",
        "import matplotlib.image as mpimg\n",
        "import tensorflow as keras\n",
        "import tensorflow as tf\n",
        "from keras.models import Sequential\n",
        "from keras.layers import Conv2D, MaxPooling2D, Flatten, Dropout, Dense, Lambda, BatchNormalization\n",
        "from keras.optimizers import Adam\n",
        "from keras.callbacks import EarlyStopping\n",
        "from sklearn.utils import shuffle\n",
        "from sklearn.model_selection import train_test_split\n",
        "from imgaug import augmenters as iaa\n",
        "import cv2\n",
        "import ntpath"
      ]
    },
    {
      "cell_type": "code",
      "source": [
        "!git clone https://github.com/tzudir/Self_driving"
      ],
      "metadata": {
        "colab": {
          "base_uri": "https://localhost:8080/"
        },
        "id": "16F6tKLyF0X3",
        "outputId": "1bb584c8-b1a0-4fdf-f8fb-4e19f122ab90"
      },
      "execution_count": 3,
      "outputs": [
        {
          "output_type": "stream",
          "name": "stdout",
          "text": [
            "Cloning into 'Self_driving'...\n",
            "remote: Enumerating objects: 33822, done.\u001b[K\n",
            "remote: Counting objects: 100% (9705/9705), done.\u001b[K\n",
            "remote: Compressing objects: 100% (9667/9667), done.\u001b[K\n",
            "remote: Total 33822 (delta 39), reused 9691 (delta 32), pack-reused 24117\u001b[K\n",
            "Receiving objects: 100% (33822/33822), 418.14 MiB | 29.65 MiB/s, done.\n",
            "Resolving deltas: 100% (42/42), done.\n",
            "Updating files: 100% (33728/33728), done.\n"
          ]
        }
      ]
    },
    {
      "cell_type": "code",
      "source": [
        "datadir = '/content/Self_driving/data'\n",
        "columns = ['center', 'left', 'right', 'steering', 'throttle', 'reverse', 'speed']\n",
        "data = pd.read_csv(os.path.join(datadir, 'driving_log.csv'), names = columns)\n",
        "pd.set_option('display.max_colwidth', -1)"
      ],
      "metadata": {
        "id": "WXBYDidnbUAP",
        "outputId": "4edd27dd-75d6-4b27-cea7-1f8998de362c",
        "colab": {
          "base_uri": "https://localhost:8080/"
        }
      },
      "execution_count": 4,
      "outputs": [
        {
          "output_type": "stream",
          "name": "stderr",
          "text": [
            "<ipython-input-4-04b2e98e549a>:4: FutureWarning: Passing a negative integer is deprecated in version 1.0 and will not be supported in future version. Instead, use None to not limit the column width.\n",
            "  pd.set_option('display.max_colwidth', -1)\n"
          ]
        }
      ]
    },
    {
      "cell_type": "code",
      "source": [
        "data.head(5)"
      ],
      "metadata": {
        "id": "PFT7IS1ecCmc",
        "outputId": "76db7e73-5c7c-4f50-a930-5064d1bb9a70",
        "colab": {
          "base_uri": "https://localhost:8080/",
          "height": 226
        }
      },
      "execution_count": 5,
      "outputs": [
        {
          "output_type": "execute_result",
          "data": {
            "text/plain": [
              "                                                                center  \\\n",
              "0  C:\\Users\\realj\\Documents\\Car\\IMG\\center_2024_01_25_22_48_25_466.jpg   \n",
              "1  C:\\Users\\realj\\Documents\\Car\\IMG\\center_2024_01_25_22_48_25_543.jpg   \n",
              "2  C:\\Users\\realj\\Documents\\Car\\IMG\\center_2024_01_25_22_48_25_622.jpg   \n",
              "3  C:\\Users\\realj\\Documents\\Car\\IMG\\center_2024_01_25_22_48_25_700.jpg   \n",
              "4  C:\\Users\\realj\\Documents\\Car\\IMG\\center_2024_01_25_22_48_25_769.jpg   \n",
              "\n",
              "                                                                left  \\\n",
              "0  C:\\Users\\realj\\Documents\\Car\\IMG\\left_2024_01_25_22_48_25_466.jpg   \n",
              "1  C:\\Users\\realj\\Documents\\Car\\IMG\\left_2024_01_25_22_48_25_543.jpg   \n",
              "2  C:\\Users\\realj\\Documents\\Car\\IMG\\left_2024_01_25_22_48_25_622.jpg   \n",
              "3  C:\\Users\\realj\\Documents\\Car\\IMG\\left_2024_01_25_22_48_25_700.jpg   \n",
              "4  C:\\Users\\realj\\Documents\\Car\\IMG\\left_2024_01_25_22_48_25_769.jpg   \n",
              "\n",
              "                                                                right  \\\n",
              "0  C:\\Users\\realj\\Documents\\Car\\IMG\\right_2024_01_25_22_48_25_466.jpg   \n",
              "1  C:\\Users\\realj\\Documents\\Car\\IMG\\right_2024_01_25_22_48_25_543.jpg   \n",
              "2  C:\\Users\\realj\\Documents\\Car\\IMG\\right_2024_01_25_22_48_25_622.jpg   \n",
              "3  C:\\Users\\realj\\Documents\\Car\\IMG\\right_2024_01_25_22_48_25_700.jpg   \n",
              "4  C:\\Users\\realj\\Documents\\Car\\IMG\\right_2024_01_25_22_48_25_769.jpg   \n",
              "\n",
              "   steering  throttle  reverse     speed  \n",
              "0  0.0       0.0       0.0      0.000091  \n",
              "1  0.0       0.0       0.0      0.000116  \n",
              "2  0.0       0.0       0.0      0.000132  \n",
              "3  0.0       0.0       0.0      0.000161  \n",
              "4  0.0       0.0       0.0      0.000227  "
            ],
            "text/html": [
              "\n",
              "  <div id=\"df-c054728d-f3c1-4491-b1e6-5437ec7051c6\" class=\"colab-df-container\">\n",
              "    <div>\n",
              "<style scoped>\n",
              "    .dataframe tbody tr th:only-of-type {\n",
              "        vertical-align: middle;\n",
              "    }\n",
              "\n",
              "    .dataframe tbody tr th {\n",
              "        vertical-align: top;\n",
              "    }\n",
              "\n",
              "    .dataframe thead th {\n",
              "        text-align: right;\n",
              "    }\n",
              "</style>\n",
              "<table border=\"1\" class=\"dataframe\">\n",
              "  <thead>\n",
              "    <tr style=\"text-align: right;\">\n",
              "      <th></th>\n",
              "      <th>center</th>\n",
              "      <th>left</th>\n",
              "      <th>right</th>\n",
              "      <th>steering</th>\n",
              "      <th>throttle</th>\n",
              "      <th>reverse</th>\n",
              "      <th>speed</th>\n",
              "    </tr>\n",
              "  </thead>\n",
              "  <tbody>\n",
              "    <tr>\n",
              "      <th>0</th>\n",
              "      <td>C:\\Users\\realj\\Documents\\Car\\IMG\\center_2024_01_25_22_48_25_466.jpg</td>\n",
              "      <td>C:\\Users\\realj\\Documents\\Car\\IMG\\left_2024_01_25_22_48_25_466.jpg</td>\n",
              "      <td>C:\\Users\\realj\\Documents\\Car\\IMG\\right_2024_01_25_22_48_25_466.jpg</td>\n",
              "      <td>0.0</td>\n",
              "      <td>0.0</td>\n",
              "      <td>0.0</td>\n",
              "      <td>0.000091</td>\n",
              "    </tr>\n",
              "    <tr>\n",
              "      <th>1</th>\n",
              "      <td>C:\\Users\\realj\\Documents\\Car\\IMG\\center_2024_01_25_22_48_25_543.jpg</td>\n",
              "      <td>C:\\Users\\realj\\Documents\\Car\\IMG\\left_2024_01_25_22_48_25_543.jpg</td>\n",
              "      <td>C:\\Users\\realj\\Documents\\Car\\IMG\\right_2024_01_25_22_48_25_543.jpg</td>\n",
              "      <td>0.0</td>\n",
              "      <td>0.0</td>\n",
              "      <td>0.0</td>\n",
              "      <td>0.000116</td>\n",
              "    </tr>\n",
              "    <tr>\n",
              "      <th>2</th>\n",
              "      <td>C:\\Users\\realj\\Documents\\Car\\IMG\\center_2024_01_25_22_48_25_622.jpg</td>\n",
              "      <td>C:\\Users\\realj\\Documents\\Car\\IMG\\left_2024_01_25_22_48_25_622.jpg</td>\n",
              "      <td>C:\\Users\\realj\\Documents\\Car\\IMG\\right_2024_01_25_22_48_25_622.jpg</td>\n",
              "      <td>0.0</td>\n",
              "      <td>0.0</td>\n",
              "      <td>0.0</td>\n",
              "      <td>0.000132</td>\n",
              "    </tr>\n",
              "    <tr>\n",
              "      <th>3</th>\n",
              "      <td>C:\\Users\\realj\\Documents\\Car\\IMG\\center_2024_01_25_22_48_25_700.jpg</td>\n",
              "      <td>C:\\Users\\realj\\Documents\\Car\\IMG\\left_2024_01_25_22_48_25_700.jpg</td>\n",
              "      <td>C:\\Users\\realj\\Documents\\Car\\IMG\\right_2024_01_25_22_48_25_700.jpg</td>\n",
              "      <td>0.0</td>\n",
              "      <td>0.0</td>\n",
              "      <td>0.0</td>\n",
              "      <td>0.000161</td>\n",
              "    </tr>\n",
              "    <tr>\n",
              "      <th>4</th>\n",
              "      <td>C:\\Users\\realj\\Documents\\Car\\IMG\\center_2024_01_25_22_48_25_769.jpg</td>\n",
              "      <td>C:\\Users\\realj\\Documents\\Car\\IMG\\left_2024_01_25_22_48_25_769.jpg</td>\n",
              "      <td>C:\\Users\\realj\\Documents\\Car\\IMG\\right_2024_01_25_22_48_25_769.jpg</td>\n",
              "      <td>0.0</td>\n",
              "      <td>0.0</td>\n",
              "      <td>0.0</td>\n",
              "      <td>0.000227</td>\n",
              "    </tr>\n",
              "  </tbody>\n",
              "</table>\n",
              "</div>\n",
              "    <div class=\"colab-df-buttons\">\n",
              "\n",
              "  <div class=\"colab-df-container\">\n",
              "    <button class=\"colab-df-convert\" onclick=\"convertToInteractive('df-c054728d-f3c1-4491-b1e6-5437ec7051c6')\"\n",
              "            title=\"Convert this dataframe to an interactive table.\"\n",
              "            style=\"display:none;\">\n",
              "\n",
              "  <svg xmlns=\"http://www.w3.org/2000/svg\" height=\"24px\" viewBox=\"0 -960 960 960\">\n",
              "    <path d=\"M120-120v-720h720v720H120Zm60-500h600v-160H180v160Zm220 220h160v-160H400v160Zm0 220h160v-160H400v160ZM180-400h160v-160H180v160Zm440 0h160v-160H620v160ZM180-180h160v-160H180v160Zm440 0h160v-160H620v160Z\"/>\n",
              "  </svg>\n",
              "    </button>\n",
              "\n",
              "  <style>\n",
              "    .colab-df-container {\n",
              "      display:flex;\n",
              "      gap: 12px;\n",
              "    }\n",
              "\n",
              "    .colab-df-convert {\n",
              "      background-color: #E8F0FE;\n",
              "      border: none;\n",
              "      border-radius: 50%;\n",
              "      cursor: pointer;\n",
              "      display: none;\n",
              "      fill: #1967D2;\n",
              "      height: 32px;\n",
              "      padding: 0 0 0 0;\n",
              "      width: 32px;\n",
              "    }\n",
              "\n",
              "    .colab-df-convert:hover {\n",
              "      background-color: #E2EBFA;\n",
              "      box-shadow: 0px 1px 2px rgba(60, 64, 67, 0.3), 0px 1px 3px 1px rgba(60, 64, 67, 0.15);\n",
              "      fill: #174EA6;\n",
              "    }\n",
              "\n",
              "    .colab-df-buttons div {\n",
              "      margin-bottom: 4px;\n",
              "    }\n",
              "\n",
              "    [theme=dark] .colab-df-convert {\n",
              "      background-color: #3B4455;\n",
              "      fill: #D2E3FC;\n",
              "    }\n",
              "\n",
              "    [theme=dark] .colab-df-convert:hover {\n",
              "      background-color: #434B5C;\n",
              "      box-shadow: 0px 1px 3px 1px rgba(0, 0, 0, 0.15);\n",
              "      filter: drop-shadow(0px 1px 2px rgba(0, 0, 0, 0.3));\n",
              "      fill: #FFFFFF;\n",
              "    }\n",
              "  </style>\n",
              "\n",
              "    <script>\n",
              "      const buttonEl =\n",
              "        document.querySelector('#df-c054728d-f3c1-4491-b1e6-5437ec7051c6 button.colab-df-convert');\n",
              "      buttonEl.style.display =\n",
              "        google.colab.kernel.accessAllowed ? 'block' : 'none';\n",
              "\n",
              "      async function convertToInteractive(key) {\n",
              "        const element = document.querySelector('#df-c054728d-f3c1-4491-b1e6-5437ec7051c6');\n",
              "        const dataTable =\n",
              "          await google.colab.kernel.invokeFunction('convertToInteractive',\n",
              "                                                    [key], {});\n",
              "        if (!dataTable) return;\n",
              "\n",
              "        const docLinkHtml = 'Like what you see? Visit the ' +\n",
              "          '<a target=\"_blank\" href=https://colab.research.google.com/notebooks/data_table.ipynb>data table notebook</a>'\n",
              "          + ' to learn more about interactive tables.';\n",
              "        element.innerHTML = '';\n",
              "        dataTable['output_type'] = 'display_data';\n",
              "        await google.colab.output.renderOutput(dataTable, element);\n",
              "        const docLink = document.createElement('div');\n",
              "        docLink.innerHTML = docLinkHtml;\n",
              "        element.appendChild(docLink);\n",
              "      }\n",
              "    </script>\n",
              "  </div>\n",
              "\n",
              "\n",
              "<div id=\"df-fc1f9b67-7f01-48d3-ab7d-64934c24b645\">\n",
              "  <button class=\"colab-df-quickchart\" onclick=\"quickchart('df-fc1f9b67-7f01-48d3-ab7d-64934c24b645')\"\n",
              "            title=\"Suggest charts\"\n",
              "            style=\"display:none;\">\n",
              "\n",
              "<svg xmlns=\"http://www.w3.org/2000/svg\" height=\"24px\"viewBox=\"0 0 24 24\"\n",
              "     width=\"24px\">\n",
              "    <g>\n",
              "        <path d=\"M19 3H5c-1.1 0-2 .9-2 2v14c0 1.1.9 2 2 2h14c1.1 0 2-.9 2-2V5c0-1.1-.9-2-2-2zM9 17H7v-7h2v7zm4 0h-2V7h2v10zm4 0h-2v-4h2v4z\"/>\n",
              "    </g>\n",
              "</svg>\n",
              "  </button>\n",
              "\n",
              "<style>\n",
              "  .colab-df-quickchart {\n",
              "      --bg-color: #E8F0FE;\n",
              "      --fill-color: #1967D2;\n",
              "      --hover-bg-color: #E2EBFA;\n",
              "      --hover-fill-color: #174EA6;\n",
              "      --disabled-fill-color: #AAA;\n",
              "      --disabled-bg-color: #DDD;\n",
              "  }\n",
              "\n",
              "  [theme=dark] .colab-df-quickchart {\n",
              "      --bg-color: #3B4455;\n",
              "      --fill-color: #D2E3FC;\n",
              "      --hover-bg-color: #434B5C;\n",
              "      --hover-fill-color: #FFFFFF;\n",
              "      --disabled-bg-color: #3B4455;\n",
              "      --disabled-fill-color: #666;\n",
              "  }\n",
              "\n",
              "  .colab-df-quickchart {\n",
              "    background-color: var(--bg-color);\n",
              "    border: none;\n",
              "    border-radius: 50%;\n",
              "    cursor: pointer;\n",
              "    display: none;\n",
              "    fill: var(--fill-color);\n",
              "    height: 32px;\n",
              "    padding: 0;\n",
              "    width: 32px;\n",
              "  }\n",
              "\n",
              "  .colab-df-quickchart:hover {\n",
              "    background-color: var(--hover-bg-color);\n",
              "    box-shadow: 0 1px 2px rgba(60, 64, 67, 0.3), 0 1px 3px 1px rgba(60, 64, 67, 0.15);\n",
              "    fill: var(--button-hover-fill-color);\n",
              "  }\n",
              "\n",
              "  .colab-df-quickchart-complete:disabled,\n",
              "  .colab-df-quickchart-complete:disabled:hover {\n",
              "    background-color: var(--disabled-bg-color);\n",
              "    fill: var(--disabled-fill-color);\n",
              "    box-shadow: none;\n",
              "  }\n",
              "\n",
              "  .colab-df-spinner {\n",
              "    border: 2px solid var(--fill-color);\n",
              "    border-color: transparent;\n",
              "    border-bottom-color: var(--fill-color);\n",
              "    animation:\n",
              "      spin 1s steps(1) infinite;\n",
              "  }\n",
              "\n",
              "  @keyframes spin {\n",
              "    0% {\n",
              "      border-color: transparent;\n",
              "      border-bottom-color: var(--fill-color);\n",
              "      border-left-color: var(--fill-color);\n",
              "    }\n",
              "    20% {\n",
              "      border-color: transparent;\n",
              "      border-left-color: var(--fill-color);\n",
              "      border-top-color: var(--fill-color);\n",
              "    }\n",
              "    30% {\n",
              "      border-color: transparent;\n",
              "      border-left-color: var(--fill-color);\n",
              "      border-top-color: var(--fill-color);\n",
              "      border-right-color: var(--fill-color);\n",
              "    }\n",
              "    40% {\n",
              "      border-color: transparent;\n",
              "      border-right-color: var(--fill-color);\n",
              "      border-top-color: var(--fill-color);\n",
              "    }\n",
              "    60% {\n",
              "      border-color: transparent;\n",
              "      border-right-color: var(--fill-color);\n",
              "    }\n",
              "    80% {\n",
              "      border-color: transparent;\n",
              "      border-right-color: var(--fill-color);\n",
              "      border-bottom-color: var(--fill-color);\n",
              "    }\n",
              "    90% {\n",
              "      border-color: transparent;\n",
              "      border-bottom-color: var(--fill-color);\n",
              "    }\n",
              "  }\n",
              "</style>\n",
              "\n",
              "  <script>\n",
              "    async function quickchart(key) {\n",
              "      const quickchartButtonEl =\n",
              "        document.querySelector('#' + key + ' button');\n",
              "      quickchartButtonEl.disabled = true;  // To prevent multiple clicks.\n",
              "      quickchartButtonEl.classList.add('colab-df-spinner');\n",
              "      try {\n",
              "        const charts = await google.colab.kernel.invokeFunction(\n",
              "            'suggestCharts', [key], {});\n",
              "      } catch (error) {\n",
              "        console.error('Error during call to suggestCharts:', error);\n",
              "      }\n",
              "      quickchartButtonEl.classList.remove('colab-df-spinner');\n",
              "      quickchartButtonEl.classList.add('colab-df-quickchart-complete');\n",
              "    }\n",
              "    (() => {\n",
              "      let quickchartButtonEl =\n",
              "        document.querySelector('#df-fc1f9b67-7f01-48d3-ab7d-64934c24b645 button');\n",
              "      quickchartButtonEl.style.display =\n",
              "        google.colab.kernel.accessAllowed ? 'block' : 'none';\n",
              "    })();\n",
              "  </script>\n",
              "</div>\n",
              "\n",
              "    </div>\n",
              "  </div>\n"
            ],
            "application/vnd.google.colaboratory.intrinsic+json": {
              "type": "dataframe",
              "variable_name": "data",
              "summary": "{\n  \"name\": \"data\",\n  \"rows\": 3205,\n  \"fields\": [\n    {\n      \"column\": \"center\",\n      \"properties\": {\n        \"dtype\": \"string\",\n        \"num_unique_values\": 3205,\n        \"samples\": [\n          \"C:\\\\Users\\\\realj\\\\Documents\\\\Car\\\\IMG\\\\center_2024_01_25_22_49_12_077.jpg\",\n          \"C:\\\\Users\\\\realj\\\\Documents\\\\Car\\\\IMG\\\\center_2024_02_02_09_52_57_672.jpg\",\n          \"C:\\\\Users\\\\realj\\\\Documents\\\\Car\\\\IMG\\\\center_2024_02_02_09_52_14_721.jpg\"\n        ],\n        \"semantic_type\": \"\",\n        \"description\": \"\"\n      }\n    },\n    {\n      \"column\": \"left\",\n      \"properties\": {\n        \"dtype\": \"string\",\n        \"num_unique_values\": 3205,\n        \"samples\": [\n          \"C:\\\\Users\\\\realj\\\\Documents\\\\Car\\\\IMG\\\\left_2024_01_25_22_49_12_077.jpg\",\n          \"C:\\\\Users\\\\realj\\\\Documents\\\\Car\\\\IMG\\\\left_2024_02_02_09_52_57_672.jpg\",\n          \"C:\\\\Users\\\\realj\\\\Documents\\\\Car\\\\IMG\\\\left_2024_02_02_09_52_14_721.jpg\"\n        ],\n        \"semantic_type\": \"\",\n        \"description\": \"\"\n      }\n    },\n    {\n      \"column\": \"right\",\n      \"properties\": {\n        \"dtype\": \"string\",\n        \"num_unique_values\": 3205,\n        \"samples\": [\n          \"C:\\\\Users\\\\realj\\\\Documents\\\\Car\\\\IMG\\\\right_2024_01_25_22_49_12_077.jpg\",\n          \"C:\\\\Users\\\\realj\\\\Documents\\\\Car\\\\IMG\\\\right_2024_02_02_09_52_57_672.jpg\",\n          \"C:\\\\Users\\\\realj\\\\Documents\\\\Car\\\\IMG\\\\right_2024_02_02_09_52_14_721.jpg\"\n        ],\n        \"semantic_type\": \"\",\n        \"description\": \"\"\n      }\n    },\n    {\n      \"column\": \"steering\",\n      \"properties\": {\n        \"dtype\": \"number\",\n        \"std\": 0.4270405529265044,\n        \"min\": -1.0,\n        \"max\": 1.0,\n        \"num_unique_values\": 41,\n        \"samples\": [\n          0.7,\n          -0.3,\n          0.6500001\n        ],\n        \"semantic_type\": \"\",\n        \"description\": \"\"\n      }\n    },\n    {\n      \"column\": \"throttle\",\n      \"properties\": {\n        \"dtype\": \"number\",\n        \"std\": 0.412460792758581,\n        \"min\": 0.0,\n        \"max\": 1.0,\n        \"num_unique_values\": 342,\n        \"samples\": [\n          0.4950236,\n          0.3545332,\n          0.7561884\n        ],\n        \"semantic_type\": \"\",\n        \"description\": \"\"\n      }\n    },\n    {\n      \"column\": \"reverse\",\n      \"properties\": {\n        \"dtype\": \"number\",\n        \"std\": 0.18377487838950307,\n        \"min\": 0.0,\n        \"max\": 1.0,\n        \"num_unique_values\": 39,\n        \"samples\": [\n          0.8290653,\n          0.4332538,\n          0.8245652\n        ],\n        \"semantic_type\": \"\",\n        \"description\": \"\"\n      }\n    },\n    {\n      \"column\": \"speed\",\n      \"properties\": {\n        \"dtype\": \"number\",\n        \"std\": 10.07209603670786,\n        \"min\": 1.291497e-06,\n        \"max\": 30.72889,\n        \"num_unique_values\": 2797,\n        \"samples\": [\n          30.07677,\n          30.03604,\n          30.18555\n        ],\n        \"semantic_type\": \"\",\n        \"description\": \"\"\n      }\n    }\n  ]\n}"
            }
          },
          "metadata": {},
          "execution_count": 5
        }
      ]
    },
    {
      "cell_type": "code",
      "source": [
        "def path_leaf(path):\n",
        "  head, tail = ntpath.split(path)\n",
        "  return tail\n",
        "data['center'] = data['center'].apply(path_leaf)\n",
        "data['left'] = data['left'].apply(path_leaf)\n",
        "data['right'] = data['right'].apply(path_leaf)"
      ],
      "metadata": {
        "id": "HT_JWk3KBQZa"
      },
      "execution_count": 6,
      "outputs": []
    },
    {
      "cell_type": "code",
      "source": [
        "data.head()"
      ],
      "metadata": {
        "id": "qOzB1G9ce6Sm",
        "outputId": "c94874ad-e95b-4387-f2d0-97fe3a44ac14",
        "colab": {
          "base_uri": "https://localhost:8080/",
          "height": 206
        }
      },
      "execution_count": 7,
      "outputs": [
        {
          "output_type": "execute_result",
          "data": {
            "text/plain": [
              "                               center                              left  \\\n",
              "0  center_2024_01_25_22_48_25_466.jpg  left_2024_01_25_22_48_25_466.jpg   \n",
              "1  center_2024_01_25_22_48_25_543.jpg  left_2024_01_25_22_48_25_543.jpg   \n",
              "2  center_2024_01_25_22_48_25_622.jpg  left_2024_01_25_22_48_25_622.jpg   \n",
              "3  center_2024_01_25_22_48_25_700.jpg  left_2024_01_25_22_48_25_700.jpg   \n",
              "4  center_2024_01_25_22_48_25_769.jpg  left_2024_01_25_22_48_25_769.jpg   \n",
              "\n",
              "                               right  steering  throttle  reverse     speed  \n",
              "0  right_2024_01_25_22_48_25_466.jpg  0.0       0.0       0.0      0.000091  \n",
              "1  right_2024_01_25_22_48_25_543.jpg  0.0       0.0       0.0      0.000116  \n",
              "2  right_2024_01_25_22_48_25_622.jpg  0.0       0.0       0.0      0.000132  \n",
              "3  right_2024_01_25_22_48_25_700.jpg  0.0       0.0       0.0      0.000161  \n",
              "4  right_2024_01_25_22_48_25_769.jpg  0.0       0.0       0.0      0.000227  "
            ],
            "text/html": [
              "\n",
              "  <div id=\"df-719d4e7c-b563-4376-abf7-f12bb2c8e058\" class=\"colab-df-container\">\n",
              "    <div>\n",
              "<style scoped>\n",
              "    .dataframe tbody tr th:only-of-type {\n",
              "        vertical-align: middle;\n",
              "    }\n",
              "\n",
              "    .dataframe tbody tr th {\n",
              "        vertical-align: top;\n",
              "    }\n",
              "\n",
              "    .dataframe thead th {\n",
              "        text-align: right;\n",
              "    }\n",
              "</style>\n",
              "<table border=\"1\" class=\"dataframe\">\n",
              "  <thead>\n",
              "    <tr style=\"text-align: right;\">\n",
              "      <th></th>\n",
              "      <th>center</th>\n",
              "      <th>left</th>\n",
              "      <th>right</th>\n",
              "      <th>steering</th>\n",
              "      <th>throttle</th>\n",
              "      <th>reverse</th>\n",
              "      <th>speed</th>\n",
              "    </tr>\n",
              "  </thead>\n",
              "  <tbody>\n",
              "    <tr>\n",
              "      <th>0</th>\n",
              "      <td>center_2024_01_25_22_48_25_466.jpg</td>\n",
              "      <td>left_2024_01_25_22_48_25_466.jpg</td>\n",
              "      <td>right_2024_01_25_22_48_25_466.jpg</td>\n",
              "      <td>0.0</td>\n",
              "      <td>0.0</td>\n",
              "      <td>0.0</td>\n",
              "      <td>0.000091</td>\n",
              "    </tr>\n",
              "    <tr>\n",
              "      <th>1</th>\n",
              "      <td>center_2024_01_25_22_48_25_543.jpg</td>\n",
              "      <td>left_2024_01_25_22_48_25_543.jpg</td>\n",
              "      <td>right_2024_01_25_22_48_25_543.jpg</td>\n",
              "      <td>0.0</td>\n",
              "      <td>0.0</td>\n",
              "      <td>0.0</td>\n",
              "      <td>0.000116</td>\n",
              "    </tr>\n",
              "    <tr>\n",
              "      <th>2</th>\n",
              "      <td>center_2024_01_25_22_48_25_622.jpg</td>\n",
              "      <td>left_2024_01_25_22_48_25_622.jpg</td>\n",
              "      <td>right_2024_01_25_22_48_25_622.jpg</td>\n",
              "      <td>0.0</td>\n",
              "      <td>0.0</td>\n",
              "      <td>0.0</td>\n",
              "      <td>0.000132</td>\n",
              "    </tr>\n",
              "    <tr>\n",
              "      <th>3</th>\n",
              "      <td>center_2024_01_25_22_48_25_700.jpg</td>\n",
              "      <td>left_2024_01_25_22_48_25_700.jpg</td>\n",
              "      <td>right_2024_01_25_22_48_25_700.jpg</td>\n",
              "      <td>0.0</td>\n",
              "      <td>0.0</td>\n",
              "      <td>0.0</td>\n",
              "      <td>0.000161</td>\n",
              "    </tr>\n",
              "    <tr>\n",
              "      <th>4</th>\n",
              "      <td>center_2024_01_25_22_48_25_769.jpg</td>\n",
              "      <td>left_2024_01_25_22_48_25_769.jpg</td>\n",
              "      <td>right_2024_01_25_22_48_25_769.jpg</td>\n",
              "      <td>0.0</td>\n",
              "      <td>0.0</td>\n",
              "      <td>0.0</td>\n",
              "      <td>0.000227</td>\n",
              "    </tr>\n",
              "  </tbody>\n",
              "</table>\n",
              "</div>\n",
              "    <div class=\"colab-df-buttons\">\n",
              "\n",
              "  <div class=\"colab-df-container\">\n",
              "    <button class=\"colab-df-convert\" onclick=\"convertToInteractive('df-719d4e7c-b563-4376-abf7-f12bb2c8e058')\"\n",
              "            title=\"Convert this dataframe to an interactive table.\"\n",
              "            style=\"display:none;\">\n",
              "\n",
              "  <svg xmlns=\"http://www.w3.org/2000/svg\" height=\"24px\" viewBox=\"0 -960 960 960\">\n",
              "    <path d=\"M120-120v-720h720v720H120Zm60-500h600v-160H180v160Zm220 220h160v-160H400v160Zm0 220h160v-160H400v160ZM180-400h160v-160H180v160Zm440 0h160v-160H620v160ZM180-180h160v-160H180v160Zm440 0h160v-160H620v160Z\"/>\n",
              "  </svg>\n",
              "    </button>\n",
              "\n",
              "  <style>\n",
              "    .colab-df-container {\n",
              "      display:flex;\n",
              "      gap: 12px;\n",
              "    }\n",
              "\n",
              "    .colab-df-convert {\n",
              "      background-color: #E8F0FE;\n",
              "      border: none;\n",
              "      border-radius: 50%;\n",
              "      cursor: pointer;\n",
              "      display: none;\n",
              "      fill: #1967D2;\n",
              "      height: 32px;\n",
              "      padding: 0 0 0 0;\n",
              "      width: 32px;\n",
              "    }\n",
              "\n",
              "    .colab-df-convert:hover {\n",
              "      background-color: #E2EBFA;\n",
              "      box-shadow: 0px 1px 2px rgba(60, 64, 67, 0.3), 0px 1px 3px 1px rgba(60, 64, 67, 0.15);\n",
              "      fill: #174EA6;\n",
              "    }\n",
              "\n",
              "    .colab-df-buttons div {\n",
              "      margin-bottom: 4px;\n",
              "    }\n",
              "\n",
              "    [theme=dark] .colab-df-convert {\n",
              "      background-color: #3B4455;\n",
              "      fill: #D2E3FC;\n",
              "    }\n",
              "\n",
              "    [theme=dark] .colab-df-convert:hover {\n",
              "      background-color: #434B5C;\n",
              "      box-shadow: 0px 1px 3px 1px rgba(0, 0, 0, 0.15);\n",
              "      filter: drop-shadow(0px 1px 2px rgba(0, 0, 0, 0.3));\n",
              "      fill: #FFFFFF;\n",
              "    }\n",
              "  </style>\n",
              "\n",
              "    <script>\n",
              "      const buttonEl =\n",
              "        document.querySelector('#df-719d4e7c-b563-4376-abf7-f12bb2c8e058 button.colab-df-convert');\n",
              "      buttonEl.style.display =\n",
              "        google.colab.kernel.accessAllowed ? 'block' : 'none';\n",
              "\n",
              "      async function convertToInteractive(key) {\n",
              "        const element = document.querySelector('#df-719d4e7c-b563-4376-abf7-f12bb2c8e058');\n",
              "        const dataTable =\n",
              "          await google.colab.kernel.invokeFunction('convertToInteractive',\n",
              "                                                    [key], {});\n",
              "        if (!dataTable) return;\n",
              "\n",
              "        const docLinkHtml = 'Like what you see? Visit the ' +\n",
              "          '<a target=\"_blank\" href=https://colab.research.google.com/notebooks/data_table.ipynb>data table notebook</a>'\n",
              "          + ' to learn more about interactive tables.';\n",
              "        element.innerHTML = '';\n",
              "        dataTable['output_type'] = 'display_data';\n",
              "        await google.colab.output.renderOutput(dataTable, element);\n",
              "        const docLink = document.createElement('div');\n",
              "        docLink.innerHTML = docLinkHtml;\n",
              "        element.appendChild(docLink);\n",
              "      }\n",
              "    </script>\n",
              "  </div>\n",
              "\n",
              "\n",
              "<div id=\"df-a3c7b57b-68b0-4437-bffb-09df08fa763c\">\n",
              "  <button class=\"colab-df-quickchart\" onclick=\"quickchart('df-a3c7b57b-68b0-4437-bffb-09df08fa763c')\"\n",
              "            title=\"Suggest charts\"\n",
              "            style=\"display:none;\">\n",
              "\n",
              "<svg xmlns=\"http://www.w3.org/2000/svg\" height=\"24px\"viewBox=\"0 0 24 24\"\n",
              "     width=\"24px\">\n",
              "    <g>\n",
              "        <path d=\"M19 3H5c-1.1 0-2 .9-2 2v14c0 1.1.9 2 2 2h14c1.1 0 2-.9 2-2V5c0-1.1-.9-2-2-2zM9 17H7v-7h2v7zm4 0h-2V7h2v10zm4 0h-2v-4h2v4z\"/>\n",
              "    </g>\n",
              "</svg>\n",
              "  </button>\n",
              "\n",
              "<style>\n",
              "  .colab-df-quickchart {\n",
              "      --bg-color: #E8F0FE;\n",
              "      --fill-color: #1967D2;\n",
              "      --hover-bg-color: #E2EBFA;\n",
              "      --hover-fill-color: #174EA6;\n",
              "      --disabled-fill-color: #AAA;\n",
              "      --disabled-bg-color: #DDD;\n",
              "  }\n",
              "\n",
              "  [theme=dark] .colab-df-quickchart {\n",
              "      --bg-color: #3B4455;\n",
              "      --fill-color: #D2E3FC;\n",
              "      --hover-bg-color: #434B5C;\n",
              "      --hover-fill-color: #FFFFFF;\n",
              "      --disabled-bg-color: #3B4455;\n",
              "      --disabled-fill-color: #666;\n",
              "  }\n",
              "\n",
              "  .colab-df-quickchart {\n",
              "    background-color: var(--bg-color);\n",
              "    border: none;\n",
              "    border-radius: 50%;\n",
              "    cursor: pointer;\n",
              "    display: none;\n",
              "    fill: var(--fill-color);\n",
              "    height: 32px;\n",
              "    padding: 0;\n",
              "    width: 32px;\n",
              "  }\n",
              "\n",
              "  .colab-df-quickchart:hover {\n",
              "    background-color: var(--hover-bg-color);\n",
              "    box-shadow: 0 1px 2px rgba(60, 64, 67, 0.3), 0 1px 3px 1px rgba(60, 64, 67, 0.15);\n",
              "    fill: var(--button-hover-fill-color);\n",
              "  }\n",
              "\n",
              "  .colab-df-quickchart-complete:disabled,\n",
              "  .colab-df-quickchart-complete:disabled:hover {\n",
              "    background-color: var(--disabled-bg-color);\n",
              "    fill: var(--disabled-fill-color);\n",
              "    box-shadow: none;\n",
              "  }\n",
              "\n",
              "  .colab-df-spinner {\n",
              "    border: 2px solid var(--fill-color);\n",
              "    border-color: transparent;\n",
              "    border-bottom-color: var(--fill-color);\n",
              "    animation:\n",
              "      spin 1s steps(1) infinite;\n",
              "  }\n",
              "\n",
              "  @keyframes spin {\n",
              "    0% {\n",
              "      border-color: transparent;\n",
              "      border-bottom-color: var(--fill-color);\n",
              "      border-left-color: var(--fill-color);\n",
              "    }\n",
              "    20% {\n",
              "      border-color: transparent;\n",
              "      border-left-color: var(--fill-color);\n",
              "      border-top-color: var(--fill-color);\n",
              "    }\n",
              "    30% {\n",
              "      border-color: transparent;\n",
              "      border-left-color: var(--fill-color);\n",
              "      border-top-color: var(--fill-color);\n",
              "      border-right-color: var(--fill-color);\n",
              "    }\n",
              "    40% {\n",
              "      border-color: transparent;\n",
              "      border-right-color: var(--fill-color);\n",
              "      border-top-color: var(--fill-color);\n",
              "    }\n",
              "    60% {\n",
              "      border-color: transparent;\n",
              "      border-right-color: var(--fill-color);\n",
              "    }\n",
              "    80% {\n",
              "      border-color: transparent;\n",
              "      border-right-color: var(--fill-color);\n",
              "      border-bottom-color: var(--fill-color);\n",
              "    }\n",
              "    90% {\n",
              "      border-color: transparent;\n",
              "      border-bottom-color: var(--fill-color);\n",
              "    }\n",
              "  }\n",
              "</style>\n",
              "\n",
              "  <script>\n",
              "    async function quickchart(key) {\n",
              "      const quickchartButtonEl =\n",
              "        document.querySelector('#' + key + ' button');\n",
              "      quickchartButtonEl.disabled = true;  // To prevent multiple clicks.\n",
              "      quickchartButtonEl.classList.add('colab-df-spinner');\n",
              "      try {\n",
              "        const charts = await google.colab.kernel.invokeFunction(\n",
              "            'suggestCharts', [key], {});\n",
              "      } catch (error) {\n",
              "        console.error('Error during call to suggestCharts:', error);\n",
              "      }\n",
              "      quickchartButtonEl.classList.remove('colab-df-spinner');\n",
              "      quickchartButtonEl.classList.add('colab-df-quickchart-complete');\n",
              "    }\n",
              "    (() => {\n",
              "      let quickchartButtonEl =\n",
              "        document.querySelector('#df-a3c7b57b-68b0-4437-bffb-09df08fa763c button');\n",
              "      quickchartButtonEl.style.display =\n",
              "        google.colab.kernel.accessAllowed ? 'block' : 'none';\n",
              "    })();\n",
              "  </script>\n",
              "</div>\n",
              "\n",
              "    </div>\n",
              "  </div>\n"
            ],
            "application/vnd.google.colaboratory.intrinsic+json": {
              "type": "dataframe",
              "variable_name": "data",
              "summary": "{\n  \"name\": \"data\",\n  \"rows\": 3205,\n  \"fields\": [\n    {\n      \"column\": \"center\",\n      \"properties\": {\n        \"dtype\": \"string\",\n        \"num_unique_values\": 3205,\n        \"samples\": [\n          \"center_2024_01_25_22_49_12_077.jpg\",\n          \"center_2024_02_02_09_52_57_672.jpg\",\n          \"center_2024_02_02_09_52_14_721.jpg\"\n        ],\n        \"semantic_type\": \"\",\n        \"description\": \"\"\n      }\n    },\n    {\n      \"column\": \"left\",\n      \"properties\": {\n        \"dtype\": \"string\",\n        \"num_unique_values\": 3205,\n        \"samples\": [\n          \"left_2024_01_25_22_49_12_077.jpg\",\n          \"left_2024_02_02_09_52_57_672.jpg\",\n          \"left_2024_02_02_09_52_14_721.jpg\"\n        ],\n        \"semantic_type\": \"\",\n        \"description\": \"\"\n      }\n    },\n    {\n      \"column\": \"right\",\n      \"properties\": {\n        \"dtype\": \"string\",\n        \"num_unique_values\": 3205,\n        \"samples\": [\n          \"right_2024_01_25_22_49_12_077.jpg\",\n          \"right_2024_02_02_09_52_57_672.jpg\",\n          \"right_2024_02_02_09_52_14_721.jpg\"\n        ],\n        \"semantic_type\": \"\",\n        \"description\": \"\"\n      }\n    },\n    {\n      \"column\": \"steering\",\n      \"properties\": {\n        \"dtype\": \"number\",\n        \"std\": 0.4270405529265044,\n        \"min\": -1.0,\n        \"max\": 1.0,\n        \"num_unique_values\": 41,\n        \"samples\": [\n          0.7,\n          -0.3,\n          0.6500001\n        ],\n        \"semantic_type\": \"\",\n        \"description\": \"\"\n      }\n    },\n    {\n      \"column\": \"throttle\",\n      \"properties\": {\n        \"dtype\": \"number\",\n        \"std\": 0.412460792758581,\n        \"min\": 0.0,\n        \"max\": 1.0,\n        \"num_unique_values\": 342,\n        \"samples\": [\n          0.4950236,\n          0.3545332,\n          0.7561884\n        ],\n        \"semantic_type\": \"\",\n        \"description\": \"\"\n      }\n    },\n    {\n      \"column\": \"reverse\",\n      \"properties\": {\n        \"dtype\": \"number\",\n        \"std\": 0.18377487838950307,\n        \"min\": 0.0,\n        \"max\": 1.0,\n        \"num_unique_values\": 39,\n        \"samples\": [\n          0.8290653,\n          0.4332538,\n          0.8245652\n        ],\n        \"semantic_type\": \"\",\n        \"description\": \"\"\n      }\n    },\n    {\n      \"column\": \"speed\",\n      \"properties\": {\n        \"dtype\": \"number\",\n        \"std\": 10.07209603670786,\n        \"min\": 1.291497e-06,\n        \"max\": 30.72889,\n        \"num_unique_values\": 2797,\n        \"samples\": [\n          30.07677,\n          30.03604,\n          30.18555\n        ],\n        \"semantic_type\": \"\",\n        \"description\": \"\"\n      }\n    }\n  ]\n}"
            }
          },
          "metadata": {},
          "execution_count": 7
        }
      ]
    },
    {
      "cell_type": "code",
      "source": [
        "num_bins = 25\n",
        "samples_per_bin = 400\n",
        "hist, bins = np.histogram(data['steering'], num_bins)\n",
        "center = (bins[:-1]+ bins[1:]) * 0.5\n",
        "plt.bar(center,hist, width=0.05)\n",
        "plt.plot((np.min(data['steering']), np.max(data['steering'])),(samples_per_bin, samples_per_bin))"
      ],
      "metadata": {
        "id": "Q4Brh-D0e-kN",
        "colab": {
          "base_uri": "https://localhost:8080/",
          "height": 447
        },
        "outputId": "a6b2d417-f80e-4464-d0a7-2edfecdefe5d"
      },
      "execution_count": 8,
      "outputs": [
        {
          "output_type": "execute_result",
          "data": {
            "text/plain": [
              "[<matplotlib.lines.Line2D at 0x7f6172a08c70>]"
            ]
          },
          "metadata": {},
          "execution_count": 8
        },
        {
          "output_type": "display_data",
          "data": {
            "text/plain": [
              "<Figure size 640x480 with 1 Axes>"
            ],
            "image/png": "[encoded data removed]"
          },
          "metadata": {}
        }
      ]
    },
    {
      "cell_type": "code",
      "source": [
        "remove_list = []\n",
        "for j in range(num_bins):\n",
        "  list_ = []\n",
        "  for i in range(len(data['steering'])):\n",
        "    if data['steering'][i] >= bins[j] and data['steering'][i] <= bins[j+1]:\n",
        "      list_.append(i)\n",
        "  list_ = shuffle(list_)\n",
        "  list_ = list_[samples_per_bin:]\n",
        "  remove_list.extend(list_)\n",
        "\n",
        "print('removed: ', len(remove_list))\n",
        "data.drop(data.index[remove_list], inplace=True)\n",
        "print('remaining: ', len(data))"
      ],
      "metadata": {
        "colab": {
          "base_uri": "https://localhost:8080/"
        },
        "id": "NPN6QW9xYS2h",
        "outputId": "f1dd2bc9-9306-4c67-bdb8-1cd551783cd9"
      },
      "execution_count": 9,
      "outputs": [
        {
          "output_type": "stream",
          "name": "stdout",
          "text": [
            "removed:  1538\n",
            "remaining:  1667\n"
          ]
        }
      ]
    },
    {
      "cell_type": "code",
      "source": [
        "hist, bins = np.histogram(data['steering'], (num_bins))\n",
        "plt.bar(center,hist, width=0.05)\n",
        "plt.plot((np.min(data['steering']), np.max(data['steering'])),(samples_per_bin, samples_per_bin))"
      ],
      "metadata": {
        "id": "7w3wiEkA8dUk",
        "outputId": "4956dd61-e801-44f0-f56f-f20f61345565",
        "colab": {
          "base_uri": "https://localhost:8080/",
          "height": 447
        }
      },
      "execution_count": 10,
      "outputs": [
        {
          "output_type": "execute_result",
          "data": {
            "text/plain": [
              "[<matplotlib.lines.Line2D at 0x7f6172778cd0>]"
            ]
          },
          "metadata": {},
          "execution_count": 10
        },
        {
          "output_type": "display_data",
          "data": {
            "text/plain": [
              "<Figure size 640x480 with 1 Axes>"
            ],
            "image/png": "[encoded data removed]"
          },
          "metadata": {}
        }
      ]
    },
    {
      "cell_type": "code",
      "source": [
        "data.shape"
      ],
      "metadata": {
        "id": "rVx7OgBl87bf",
        "outputId": "8bdac34b-1852-44f1-c6ca-f4d0e2aa847a",
        "colab": {
          "base_uri": "https://localhost:8080/"
        }
      },
      "execution_count": 11,
      "outputs": [
        {
          "output_type": "execute_result",
          "data": {
            "text/plain": [
              "(1667, 7)"
            ]
          },
          "metadata": {},
          "execution_count": 11
        }
      ]
    },
    {
      "cell_type": "code",
      "source": [
        "def load_img_steering(datadir, df):\n",
        "  image_path = []\n",
        "  steering = []\n",
        "  for i in range(len(data)):\n",
        "    indexed_data = data.iloc[i]\n",
        "    center, left, right = indexed_data[0], indexed_data[1], indexed_data[2]\n",
        "    image_path.append(os.path.join(datadir, center.strip()))\n",
        "    steering.append(float(indexed_data[3]))\n",
        "    image_path.append(os.path.join(datadir,left.strip()))\n",
        "    steering.append(float(indexed_data[3])+0.15)\n",
        "    image_path.append(os.path.join(datadir,right.strip()))\n",
        "    steering.append(float(indexed_data[3])-0.15)\n",
        "  image_paths = np.asarray(image_path)\n",
        "  steerings = np.asarray(steering)\n",
        "  return image_paths, steerings"
      ],
      "metadata": {
        "id": "WC_xr2SKU253"
      },
      "execution_count": 12,
      "outputs": []
    },
    {
      "cell_type": "code",
      "source": [
        "image_paths, steerings = load_img_steering(datadir + '/IMG', data)"
      ],
      "metadata": {
        "id": "13tBMIbZNLbE"
      },
      "execution_count": 13,
      "outputs": []
    },
    {
      "cell_type": "code",
      "source": [
        "image_paths"
      ],
      "metadata": {
        "id": "ebtrTJDlNblU",
        "colab": {
          "base_uri": "https://localhost:8080/"
        },
        "outputId": "e7b891f0-3394-47c6-8da8-da333eb738c1"
      },
      "execution_count": 14,
      "outputs": [
        {
          "output_type": "execute_result",
          "data": {
            "text/plain": [
              "array(['/content/Self_driving/data/IMG/center_2024_01_25_22_48_25_466.jpg',\n",
              "       '/content/Self_driving/data/IMG/left_2024_01_25_22_48_25_466.jpg',\n",
              "       '/content/Self_driving/data/IMG/right_2024_01_25_22_48_25_466.jpg',\n",
              "       ...,\n",
              "       '/content/Self_driving/data/IMG/center_2024_02_02_09_53_09_015.jpg',\n",
              "       '/content/Self_driving/data/IMG/left_2024_02_02_09_53_09_015.jpg',\n",
              "       '/content/Self_driving/data/IMG/right_2024_02_02_09_53_09_015.jpg'],\n",
              "      dtype='<U65')"
            ]
          },
          "metadata": {},
          "execution_count": 14
        }
      ]
    },
    {
      "cell_type": "code",
      "source": [
        "X_train, X_valid, y_train, y_valid = train_test_split(image_paths, steerings, test_size=0.2, random_state = 6)\n",
        "print('Training Samples: {}\\nValid Samples: {}'.format(len(X_train), len(X_valid)))"
      ],
      "metadata": {
        "colab": {
          "base_uri": "https://localhost:8080/"
        },
        "id": "8ibYIY17I3OQ",
        "outputId": "681faea6-7f1b-44ae-9e5a-735ea0e88427"
      },
      "execution_count": 15,
      "outputs": [
        {
          "output_type": "stream",
          "name": "stdout",
          "text": [
            "Training Samples: 4000\n",
            "Valid Samples: 1001\n"
          ]
        }
      ]
    },
    {
      "cell_type": "code",
      "source": [
        "fig, axes = plt.subplots(1, 2, figsize=(12, 4))\n",
        "axes[0].hist(y_train, bins=num_bins, width = 0.5, color='blue')\n",
        "axes[0].set_title(\"Training set\")\n",
        "axes[1].hist(y_valid, bins=num_bins, width = 0.5, color='red')\n",
        "axes[1].set_title(\"Validation set\")"
      ],
      "metadata": {
        "colab": {
          "base_uri": "https://localhost:8080/",
          "height": 408
        },
        "id": "DPSbyYW3KJM_",
        "outputId": "3af71161-55c9-4c3a-948c-f10c18681959"
      },
      "execution_count": 16,
      "outputs": [
        {
          "output_type": "execute_result",
          "data": {
            "text/plain": [
              "Text(0.5, 1.0, 'Validation set')"
            ]
          },
          "metadata": {},
          "execution_count": 16
        },
        {
          "output_type": "display_data",
          "data": {
            "text/plain": [
              "<Figure size 1200x400 with 2 Axes>"
            ],
            "image/png": "[encoded data removed]"
          },
          "metadata": {}
        }
      ]
    },
    {
      "cell_type": "code",
      "source": [
        "def zoom(image):\n",
        "  zoom = iaa.Affine(scale=(1, 1.3))\n",
        "  image = zoom.augment_image(image)\n",
        "  return image\n",
        "\n",
        "def pan(image):\n",
        "  pan = iaa.Affine(translate_percent= {\"x\" : (-0.1, 0.1), \"y\": (-0.1, 0.1)})\n",
        "  image = pan.augment_image(image)\n",
        "  return image\n",
        "\n",
        "def img_random_brightness(image):\n",
        "    brightness = iaa.Multiply((0.2, 1.2))\n",
        "    image = brightness.augment_image(image)\n",
        "    return image\n",
        "\n",
        "def img_random_flip(image, steering_angle):\n",
        "    image = cv2.flip(image,1)\n",
        "    steering_angle = -steering_angle\n",
        "    return image, steering_angle\n",
        "\n"
      ],
      "metadata": {
        "id": "oSUM4n7nMRwY"
      },
      "execution_count": 17,
      "outputs": []
    },
    {
      "cell_type": "code",
      "source": [
        "def random_augment(image, steering_angle):\n",
        "    image = mpimg.imread(image)\n",
        "    if np.random.rand() < 0.5:\n",
        "      image = pan(image)\n",
        "    if np.random.rand() < 0.5:\n",
        "      image = zoom(image)\n",
        "    if np.random.rand() < 0.5:\n",
        "      image = img_random_brightness(image)\n",
        "    if np.random.rand() < 0.5:\n",
        "      image, steering_angle = img_random_flip(image, steering_angle)\n",
        "\n",
        "    return image, steering_angle"
      ],
      "metadata": {
        "id": "BM_W_KYfLBMO"
      },
      "execution_count": 18,
      "outputs": []
    },
    {
      "cell_type": "code",
      "source": [
        "# ncol = 2\n",
        "# nrow = 6\n",
        "\n",
        "# fig, axs = plt.subplots(nrow, ncol, figsize=(15, 50))\n",
        "# fig.tight_layout()\n",
        "\n",
        "# for i in range(6):\n",
        "#   randnum = random.randint(0, len(image_paths) - 1)\n",
        "#   random_image = image_paths[randnum]\n",
        "#   random_steering = steerings[randnum]\n",
        "\n",
        "#   original_image = mpimg.imread(random_image)\n",
        "#   augmented_image, steering = random_augment(random_image, random_steering)\n",
        "\n",
        "#   # axs[i][0].imshow(original_image)\n",
        "#   # axs[i][0].set_title(\"Original Image\")\n",
        "\n",
        "#   # axs[i][1].imshow(augmented_image)\n",
        "#   # axs[i][1].set_title(\"Augmented Image\")"
      ],
      "metadata": {
        "id": "fdgBXB1KLKPR"
      },
      "execution_count": 19,
      "outputs": []
    },
    {
      "cell_type": "code",
      "source": [
        "def img_preprocess(img):\n",
        "  img = img[60:135,:,:]\n",
        "  img = cv2.cvtColor(img, cv2.COLOR_RGB2YUV)\n",
        "  img = cv2.GaussianBlur(img, (3, 3), 0)\n",
        "  img = cv2.resize(img, (200, 66))\n",
        "  img = img/255\n",
        "  return img"
      ],
      "metadata": {
        "id": "xros0aW8LUcj"
      },
      "execution_count": 20,
      "outputs": []
    },
    {
      "cell_type": "code",
      "source": [
        "def batch_generator(image_paths, steering_ang, batch_size, istraining):\n",
        "\n",
        "  while True:\n",
        "    batch_img = []\n",
        "    batch_steering = []\n",
        "\n",
        "    for i in range(batch_size):\n",
        "      random_index = random.randint(0, len(image_paths) - 1)\n",
        "\n",
        "      if istraining:\n",
        "        im, steering = random_augment(image_paths[random_index], steering_ang[random_index])\n",
        "\n",
        "      else:\n",
        "        im = mpimg.imread(image_paths[random_index])\n",
        "        steering = steering_ang[random_index]\n",
        "\n",
        "      im = img_preprocess(im)\n",
        "      batch_img.append(im)\n",
        "      batch_steering.append(steering)\n",
        "    yield (np.asarray(batch_img), np.asarray(batch_steering))"
      ],
      "metadata": {
        "id": "QgvpXeeCjAUH"
      },
      "execution_count": 21,
      "outputs": []
    },
    {
      "cell_type": "code",
      "source": [
        "# def nvidia_model():\n",
        "#   model = Sequential()\n",
        "#   model.add(Conv2D(24, (5, 5), strides=(2, 2), input_shape=(66, 200, 3), activation='elu'))\n",
        "#   model.add(Conv2D(36, (5, 5), strides=(2, 2), activation='elu'))\n",
        "#   model.add(Conv2D(48, (5, 5), strides=(2, 2), activation='elu'))\n",
        "#   model.add(Conv2D(64, (5, 5), activation='elu'))\n",
        "#   # model.add(Conv2D(64, (3,3), activation='elu'))\n",
        "# #   model.add(Dropout(0.5))\n",
        "\n",
        "\n",
        "#   model.add(Flatten())\n",
        "\n",
        "#   model.add(Dense(100, activation = 'elu'))\n",
        "# #   model.add(Dropout(0.5))\n",
        "\n",
        "#   model.add(Dense(50, activation = 'elu'))\n",
        "# #   model.add(Dropout(0.5))\n",
        "\n",
        "#   model.add(Dense(10, activation = 'elu'))\n",
        "# #   model.add(Dropout(0.5))\n",
        "\n",
        "#   model.add(Dense(1))\n",
        "\n",
        "#   optimizer = tf.keras.optimizers.Adam(learning_rate=1e-3)\n",
        "#   model.compile(loss='mse', optimizer=optimizer)\n",
        "#   return model\n",
        "\n",
        "# model = nvidia_model()\n",
        "# print(model.summary())"
      ],
      "metadata": {
        "id": "qorHCPypclhZ"
      },
      "execution_count": 22,
      "outputs": []
    },
    {
      "cell_type": "code",
      "source": [
        "# def keras_model():\n",
        "#     model = Sequential()\n",
        "#     model.add(Lambda(lambda x: x / 127.5 - 1., input_shape=(66, 200, 3)))\n",
        "#     model.add(Conv2D(32, (3, 3), padding='same'))\n",
        "#     model.add(Activation('relu'))\n",
        "#     model.add(MaxPooling2D((2, 2), padding='valid'))\n",
        "#     model.add(Conv2D(32, (3, 3), padding='same'))\n",
        "#     model.add(Activation('relu'))\n",
        "#     model.add(MaxPooling2D((2, 2), padding='valid'))\n",
        "\n",
        "#     model.add(Conv2D(64, (3, 3), padding='same'))\n",
        "#     model.add(Activation('relu'))\n",
        "#     model.add(MaxPooling2D((2, 2), padding='valid'))\n",
        "#     model.add(Conv2D(64, (3, 3), padding='same'))\n",
        "#     model.add(Activation('relu'))\n",
        "#     model.add(MaxPooling2D((2, 2), padding='valid'))\n",
        "\n",
        "#     model.add(Conv2D(128, (3, 3), padding='same'))\n",
        "#     model.add(Activation('relu'))\n",
        "#     model.add(MaxPooling2D((2, 2), padding='valid'))\n",
        "#     model.add(Conv2D(128, (3, 3), padding='same'))\n",
        "#     model.add(Activation('relu'))\n",
        "#     model.add(MaxPooling2D((2, 2), padding='valid'))\n",
        "\n",
        "#     model.add(Flatten())\n",
        "#     model.add(Dropout(0.5))\n",
        "#     model.add(Dense(1024))\n",
        "#     model.add(Dense(256))\n",
        "#     model.add(Dense(64))\n",
        "#     model.add(Dense(1))\n",
        "\n",
        "#     optimizer = tf.keras.optimizers.Adam(learning_rate=1e-3)\n",
        "#     model.compile(loss='mse', optimizer=optimizer)\n",
        "#     return model\n",
        "\n",
        "# model = keras_model()\n",
        "# print(model.summary())"
      ],
      "metadata": {
        "id": "wp6Rr2yb8llp"
      },
      "execution_count": 23,
      "outputs": []
    },
    {
      "cell_type": "code",
      "source": [
        "def keras_model():\n",
        "    model = Sequential()\n",
        "    model.add(Lambda(lambda x: x / 127.5 - 1., input_shape=(66, 200, 3)))\n",
        "    model.add(Conv2D(24, (5, 5), strides=(2, 2), activation='relu'))\n",
        "    model.add(BatchNormalization())\n",
        "    model.add(Conv2D(36, (5, 5), strides=(2, 2), activation='relu'))\n",
        "    model.add(BatchNormalization())\n",
        "    model.add(Conv2D(48, (5, 5), strides=(2, 2), activation='relu'))\n",
        "    model.add(BatchNormalization())\n",
        "    model.add(Conv2D(64, (3, 3), activation='relu'))\n",
        "    model.add(BatchNormalization())\n",
        "    model.add(Conv2D(64, (3, 3), activation='relu'))\n",
        "    model.add(BatchNormalization())\n",
        "    model.add(Flatten())\n",
        "    model.add(Dropout(0.5))\n",
        "    model.add(Dense(100, activation='relu'))\n",
        "    model.add(Dense(50, activation='relu'))\n",
        "    model.add(Dense(10, activation='relu'))\n",
        "    model.add(Dense(1))\n",
        "\n",
        "    optimizer = Adam(learning_rate=1e-4)\n",
        "    model.compile(loss='mse', optimizer=optimizer)\n",
        "\n",
        "    return model\n",
        "\n",
        "model = keras_model()\n",
        "print(model.summary())"
      ],
      "metadata": {
        "id": "D_Wi87EeBopw",
        "outputId": "ed34bf45-0a0b-46f6-cefc-8ab4e05a4cbe",
        "colab": {
          "base_uri": "https://localhost:8080/"
        }
      },
      "execution_count": 28,
      "outputs": [
        {
          "output_type": "stream",
          "name": "stdout",
          "text": [
            "Model: \"sequential\"\n",
            "_________________________________________________________________\n",
            " Layer (type)                Output Shape              Param #   \n",
            "=================================================================\n",
            " lambda (Lambda)             (None, 66, 200, 3)        0         \n",
            "                                                                 \n",
            " conv2d (Conv2D)             (None, 31, 98, 24)        1824      \n",
            "                                                                 \n",
            " batch_normalization (Batch  (None, 31, 98, 24)        96        \n",
            " Normalization)                                                  \n",
            "                                                                 \n",
            " conv2d_1 (Conv2D)           (None, 14, 47, 36)        21636     \n",
            "                                                                 \n",
            " batch_normalization_1 (Bat  (None, 14, 47, 36)        144       \n",
            " chNormalization)                                                \n",
            "                                                                 \n",
            " conv2d_2 (Conv2D)           (None, 5, 22, 48)         43248     \n",
            "                                                                 \n",
            " batch_normalization_2 (Bat  (None, 5, 22, 48)         192       \n",
            " chNormalization)                                                \n",
            "                                                                 \n",
            " conv2d_3 (Conv2D)           (None, 3, 20, 64)         27712     \n",
            "                                                                 \n",
            " batch_normalization_3 (Bat  (None, 3, 20, 64)         256       \n",
            " chNormalization)                                                \n",
            "                                                                 \n",
            " conv2d_4 (Conv2D)           (None, 1, 18, 64)         36928     \n",
            "                                                                 \n",
            " batch_normalization_4 (Bat  (None, 1, 18, 64)         256       \n",
            " chNormalization)                                                \n",
            "                                                                 \n",
            " flatten (Flatten)           (None, 1152)              0         \n",
            "                                                                 \n",
            " dropout (Dropout)           (None, 1152)              0         \n",
            "                                                                 \n",
            " dense (Dense)               (None, 100)               115300    \n",
            "                                                                 \n",
            " dense_1 (Dense)             (None, 50)                5050      \n",
            "                                                                 \n",
            " dense_2 (Dense)             (None, 10)                510       \n",
            "                                                                 \n",
            " dense_3 (Dense)             (None, 1)                 11        \n",
            "                                                                 \n",
            "=================================================================\n",
            "Total params: 253163 (988.92 KB)\n",
            "Trainable params: 252691 (987.07 KB)\n",
            "Non-trainable params: 472 (1.84 KB)\n",
            "_________________________________________________________________\n",
            "None\n"
          ]
        }
      ]
    },
    {
      "cell_type": "code",
      "source": [
        "history = model.fit_generator(batch_generator(X_train, y_train, 100, 1),\n",
        "                                  steps_per_epoch=300,\n",
        "                                  epochs=10,\n",
        "                                  validation_data=batch_generator(X_valid, y_valid, 100, 0),\n",
        "                                  validation_steps=200,\n",
        "                                  verbose=1,\n",
        "                                  shuffle = 1)"
      ],
      "metadata": {
        "colab": {
          "base_uri": "https://localhost:8080/"
        },
        "id": "NACJUUOD8mzX",
        "outputId": "91eeed05-ddbc-4d5c-d768-5c48aa4ac9cf"
      },
      "execution_count": 31,
      "outputs": [
        {
          "output_type": "stream",
          "name": "stderr",
          "text": [
            "<ipython-input-31-c6c3380b9281>:1: UserWarning: `Model.fit_generator` is deprecated and will be removed in a future version. Please use `Model.fit`, which supports generators.\n",
            "  history = model.fit_generator(batch_generator(X_train, y_train, 100, 1),\n"
          ]
        },
        {
          "output_type": "stream",
          "name": "stdout",
          "text": [
            "Epoch 1/10\n",
            "300/300 [==============================] - 120s 402ms/step - loss: 0.2862 - val_loss: 352.3778\n",
            "Epoch 2/10\n",
            "300/300 [==============================] - 134s 447ms/step - loss: 0.2678 - val_loss: 0.8994\n",
            "Epoch 3/10\n",
            "300/300 [==============================] - 120s 402ms/step - loss: 0.2506 - val_loss: 421.0836\n",
            "Epoch 4/10\n",
            "300/300 [==============================] - 119s 396ms/step - loss: 0.2412 - val_loss: 0.8553\n",
            "Epoch 5/10\n",
            "300/300 [==============================] - 127s 425ms/step - loss: 0.2355 - val_loss: 1.5631\n",
            "Epoch 6/10\n",
            "300/300 [==============================] - 123s 412ms/step - loss: 0.2272 - val_loss: 0.4075\n",
            "Epoch 7/10\n",
            "300/300 [==============================] - 112s 376ms/step - loss: 0.2183 - val_loss: 3.7675\n",
            "Epoch 8/10\n",
            "300/300 [==============================] - 153s 513ms/step - loss: 0.2120 - val_loss: 0.5589\n",
            "Epoch 9/10\n",
            "300/300 [==============================] - 113s 378ms/step - loss: 0.2044 - val_loss: 0.3199\n",
            "Epoch 10/10\n",
            "300/300 [==============================] - 154s 515ms/step - loss: 0.2019 - val_loss: 2.6724\n"
          ]
        }
      ]
    },
    {
      "cell_type": "code",
      "source": [
        "plt.plot(history.history['loss'])\n",
        "plt.plot(history.history['val_loss'])\n",
        "plt.legend(['training', 'validation'])\n",
        "plt.title('Loss')\n",
        "plt.xlabel('Epoch')"
      ],
      "metadata": {
        "id": "78vBeS8-V1V7",
        "outputId": "d8853a8b-bfbe-4a48-a8c3-7907393d707b",
        "colab": {
          "base_uri": "https://localhost:8080/",
          "height": 489
        }
      },
      "execution_count": 32,
      "outputs": [
        {
          "output_type": "execute_result",
          "data": {
            "text/plain": [
              "Text(0.5, 0, 'Epoch')"
            ]
          },
          "metadata": {},
          "execution_count": 32
        },
        {
          "output_type": "display_data",
          "data": {
            "text/plain": [
              "<Figure size 640x480 with 1 Axes>"
            ],
            "image/png": "[encoded data removed]"
          },
          "metadata": {}
        }
      ]
    },
    {
      "cell_type": "code",
      "source": [
        "# model.save('model.h5')\n",
        "# from google.colab import files\n",
        "# files.download('model.h5')"
      ],
      "metadata": {
        "id": "0xlJH8ItV2J7"
      },
      "execution_count": 26,
      "outputs": []
    },
    {
      "cell_type": "code",
      "source": [],
      "metadata": {
        "id": "DyWqYLl7WFcB"
      },
      "execution_count": 26,
      "outputs": []
    }
  ],
  "metadata": {
    "language_info": {
      "name": "python"
    },
    "colab": {
      "provenance": [],
      "gpuType": "T4"
    },
    "kernelspec": {
      "name": "python3",
      "display_name": "Python 3"
    },
    "accelerator": "GPU"
  },
  "nbformat": 4,
  "nbformat_minor": 0
}